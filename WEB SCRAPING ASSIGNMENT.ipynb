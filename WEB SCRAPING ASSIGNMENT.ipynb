{
 "cells": [
  {
   "cell_type": "markdown",
   "id": "0a71430d",
   "metadata": {},
   "source": [
    "# Write a python program to display all the header tags from wikipedia.org"
   ]
  },
  {
   "cell_type": "code",
   "execution_count": 1,
   "id": "66f9cb8d",
   "metadata": {},
   "outputs": [],
   "source": [
    "from bs4 import BeautifulSoup\n",
    "import requests"
   ]
  },
  {
   "cell_type": "code",
   "execution_count": 2,
   "id": "8d078950",
   "metadata": {},
   "outputs": [
    {
     "data": {
      "text/plain": [
       "<Response [200]>"
      ]
     },
     "execution_count": 2,
     "metadata": {},
     "output_type": "execute_result"
    }
   ],
   "source": [
    "page=requests.get(\"https://en.wikipedia.org/wiki/Main_Page\")\n",
    "page"
   ]
  },
  {
   "cell_type": "code",
   "execution_count": 3,
   "id": "6b626ade",
   "metadata": {},
   "outputs": [],
   "source": [
    "soup=BeautifulSoup(page.content)\n"
   ]
  },
  {
   "cell_type": "markdown",
   "id": "b0e12009",
   "metadata": {},
   "source": [
    "HEADING"
   ]
  },
  {
   "cell_type": "code",
   "execution_count": 4,
   "id": "69eec07d",
   "metadata": {},
   "outputs": [
    {
     "data": {
      "text/plain": [
       "'Welcome to Wikipedia,'"
      ]
     },
     "execution_count": 4,
     "metadata": {},
     "output_type": "execute_result"
    }
   ],
   "source": [
    "H1=soup.find(\"div\",id=\"mp-welcome\")\n",
    "H1.text"
   ]
  },
  {
   "cell_type": "markdown",
   "id": "da34232b",
   "metadata": {},
   "source": [
    "SUB HEADING-->HEADER TAG"
   ]
  },
  {
   "cell_type": "code",
   "execution_count": 5,
   "id": "89ba8882",
   "metadata": {},
   "outputs": [
    {
     "data": {
      "text/plain": [
       "\"From today's featured article\""
      ]
     },
     "execution_count": 5,
     "metadata": {},
     "output_type": "execute_result"
    }
   ],
   "source": [
    "H2=soup.find(\"span\",id=\"From_today's_featured_article\")\n",
    "H2.text"
   ]
  },
  {
   "cell_type": "code",
   "execution_count": 6,
   "id": "f02b64a2",
   "metadata": {},
   "outputs": [
    {
     "data": {
      "text/plain": [
       "'In the news'"
      ]
     },
     "execution_count": 6,
     "metadata": {},
     "output_type": "execute_result"
    }
   ],
   "source": [
    "H3=soup.find(\"span\",id=\"In_the_news\")\n",
    "H3.text"
   ]
  },
  {
   "cell_type": "code",
   "execution_count": 7,
   "id": "833f7f2c",
   "metadata": {},
   "outputs": [
    {
     "data": {
      "text/plain": [
       "'Did you know\\xa0...'"
      ]
     },
     "execution_count": 7,
     "metadata": {},
     "output_type": "execute_result"
    }
   ],
   "source": [
    "H4=soup.find(\"h2\",id=\"mp-dyk-h2\")\n",
    "H4.text"
   ]
  },
  {
   "cell_type": "code",
   "execution_count": 8,
   "id": "400cc2f9",
   "metadata": {},
   "outputs": [
    {
     "data": {
      "text/plain": [
       "'On this day'"
      ]
     },
     "execution_count": 8,
     "metadata": {},
     "output_type": "execute_result"
    }
   ],
   "source": [
    "H5=soup.find(\"span\",id=\"On_this_day\")\n",
    "H5.text"
   ]
  },
  {
   "cell_type": "code",
   "execution_count": 9,
   "id": "e2a54140",
   "metadata": {},
   "outputs": [
    {
     "data": {
      "text/plain": [
       "\"Today's featured picture\""
      ]
     },
     "execution_count": 9,
     "metadata": {},
     "output_type": "execute_result"
    }
   ],
   "source": [
    "H6=soup.find(\"span\",id=\"Today's_featured_picture\")\n",
    "H6.text"
   ]
  },
  {
   "cell_type": "code",
   "execution_count": 10,
   "id": "59da03b3",
   "metadata": {},
   "outputs": [
    {
     "data": {
      "text/plain": [
       "'Other areas of Wikipedia'"
      ]
     },
     "execution_count": 10,
     "metadata": {},
     "output_type": "execute_result"
    }
   ],
   "source": [
    "H7=soup.find(\"span\",id=\"Other_areas_of_Wikipedia\")\n",
    "H7.text"
   ]
  },
  {
   "cell_type": "code",
   "execution_count": 11,
   "id": "a8d53aec",
   "metadata": {},
   "outputs": [
    {
     "data": {
      "text/plain": [
       "\"Wikipedia's sister projects\""
      ]
     },
     "execution_count": 11,
     "metadata": {},
     "output_type": "execute_result"
    }
   ],
   "source": [
    "H8=soup.find(\"span\",id=\"Wikipedia's_sister_projects\")\n",
    "H8.text"
   ]
  },
  {
   "cell_type": "code",
   "execution_count": 12,
   "id": "a1913685",
   "metadata": {},
   "outputs": [
    {
     "data": {
      "text/plain": [
       "'Wikipedia languages'"
      ]
     },
     "execution_count": 12,
     "metadata": {},
     "output_type": "execute_result"
    }
   ],
   "source": [
    "H9=soup.find(\"span\",id=\"Wikipedia_languages\")\n",
    "H9.text"
   ]
  },
  {
   "cell_type": "code",
   "execution_count": 13,
   "id": "d9ef6aa7",
   "metadata": {},
   "outputs": [],
   "source": [
    "def Header():\n",
    "    for tag in [H1.text,H2.text,H3.text,H4.text,H5.text,H6.text,H7.text,H8.text,H9.text]:\n",
    "        print(tag)\n",
    "    "
   ]
  },
  {
   "cell_type": "code",
   "execution_count": 14,
   "id": "6e2082b7",
   "metadata": {},
   "outputs": [
    {
     "name": "stdout",
     "output_type": "stream",
     "text": [
      "Welcome to Wikipedia,\n",
      "From today's featured article\n",
      "In the news\n",
      "Did you know ...\n",
      "On this day\n",
      "Today's featured picture\n",
      "Other areas of Wikipedia\n",
      "Wikipedia's sister projects\n",
      "Wikipedia languages\n"
     ]
    }
   ],
   "source": [
    "Header()"
   ]
  },
  {
   "cell_type": "code",
   "execution_count": null,
   "id": "8392c05c",
   "metadata": {},
   "outputs": [],
   "source": []
  },
  {
   "cell_type": "markdown",
   "id": "617eb07c",
   "metadata": {},
   "source": [
    "# Write a python program to display IMDB’s Top rated 100 movies’ data (i.e. name, rating, year of release)\n",
    "and make data frame."
   ]
  },
  {
   "cell_type": "code",
   "execution_count": 15,
   "id": "157ef504",
   "metadata": {},
   "outputs": [],
   "source": [
    "from bs4 import BeautifulSoup\n",
    "import requests"
   ]
  },
  {
   "cell_type": "code",
   "execution_count": 16,
   "id": "ab57e39f",
   "metadata": {},
   "outputs": [
    {
     "data": {
      "text/plain": [
       "<Response [200]>"
      ]
     },
     "execution_count": 16,
     "metadata": {},
     "output_type": "execute_result"
    }
   ],
   "source": [
    "page=requests.get(\"https://www.imdb.com/chart/top/?ref_=nv_mv_250\")\n",
    "page"
   ]
  },
  {
   "cell_type": "code",
   "execution_count": 17,
   "id": "de13ed72",
   "metadata": {},
   "outputs": [],
   "source": [
    "soup=BeautifulSoup(page.content)"
   ]
  },
  {
   "cell_type": "markdown",
   "id": "1d682b66",
   "metadata": {},
   "source": [
    "MOVIES NAME"
   ]
  },
  {
   "cell_type": "code",
   "execution_count": 18,
   "id": "7857fbbd",
   "metadata": {},
   "outputs": [
    {
     "data": {
      "text/plain": [
       "'\\n      1.\\n      The Shawshank Redemption\\n(1994)\\n'"
      ]
     },
     "execution_count": 18,
     "metadata": {},
     "output_type": "execute_result"
    }
   ],
   "source": [
    "name=soup.find(\"td\",class_=\"titleColumn\")\n",
    "name.text"
   ]
  },
  {
   "cell_type": "markdown",
   "id": "5a4311b0",
   "metadata": {},
   "source": [
    "YEAR OF RELEASE"
   ]
  },
  {
   "cell_type": "code",
   "execution_count": 19,
   "id": "6436e11c",
   "metadata": {},
   "outputs": [
    {
     "data": {
      "text/plain": [
       "'(1994)'"
      ]
     },
     "execution_count": 19,
     "metadata": {},
     "output_type": "execute_result"
    }
   ],
   "source": [
    "year=soup.find(\"span\",class_=\"secondaryInfo\")\n",
    "year.text"
   ]
  },
  {
   "cell_type": "markdown",
   "id": "a218724f",
   "metadata": {},
   "source": [
    "RATING"
   ]
  },
  {
   "cell_type": "code",
   "execution_count": 20,
   "id": "d7001185",
   "metadata": {},
   "outputs": [
    {
     "data": {
      "text/plain": [
       "'\\n9.2\\n'"
      ]
     },
     "execution_count": 20,
     "metadata": {},
     "output_type": "execute_result"
    }
   ],
   "source": [
    "rating=soup.find(\"td\",class_=\"ratingColumn imdbRating\")\n",
    "rating.text"
   ]
  },
  {
   "cell_type": "markdown",
   "id": "77e5ea10",
   "metadata": {},
   "source": [
    "SCRAPING MULTIPLE MOVIE NAMES"
   ]
  },
  {
   "cell_type": "code",
   "execution_count": 21,
   "id": "c9e786f5",
   "metadata": {},
   "outputs": [],
   "source": [
    "names=[]\n",
    "\n",
    "for i in soup.find_all(\"td\",class_=\"titleColumn\"):\n",
    "    names.append(i.text)"
   ]
  },
  {
   "cell_type": "markdown",
   "id": "2a7259ec",
   "metadata": {},
   "source": [
    "SCRAPING MULTIPLE MOVIE YEAR REALEASE"
   ]
  },
  {
   "cell_type": "code",
   "execution_count": 22,
   "id": "84670079",
   "metadata": {},
   "outputs": [],
   "source": [
    "year=[]\n",
    "\n",
    "for i in soup.find_all(\"span\",class_=\"secondaryInfo\"):\n",
    "    year.append(i.text)"
   ]
  },
  {
   "cell_type": "markdown",
   "id": "3cbdbef4",
   "metadata": {},
   "source": [
    "SCRAPING MULTIPLE MOVIE RATING"
   ]
  },
  {
   "cell_type": "code",
   "execution_count": 23,
   "id": "205e0d9b",
   "metadata": {},
   "outputs": [],
   "source": [
    "rating=[]\n",
    "\n",
    "for i in soup.find_all(\"td\",class_=\"ratingColumn imdbRating\"):\n",
    "    rating.append(i.text)"
   ]
  },
  {
   "cell_type": "code",
   "execution_count": 24,
   "id": "47bc4ff0",
   "metadata": {},
   "outputs": [
    {
     "name": "stdout",
     "output_type": "stream",
     "text": [
      "250 250 250\n"
     ]
    }
   ],
   "source": [
    "#printing length\n",
    "print(len(names),len(year),len(rating))"
   ]
  },
  {
   "cell_type": "markdown",
   "id": "9bd831a0",
   "metadata": {},
   "source": [
    "MAKING DATAFRAME"
   ]
  },
  {
   "cell_type": "code",
   "execution_count": 25,
   "id": "b91ffc69",
   "metadata": {},
   "outputs": [],
   "source": [
    "import pandas as pd\n",
    "IMBD=pd.DataFrame({'MOVIE':names,'YEAR':year,'RATING':rating})"
   ]
  },
  {
   "cell_type": "code",
   "execution_count": 26,
   "id": "75006cbe",
   "metadata": {},
   "outputs": [
    {
     "data": {
      "text/html": [
       "<div>\n",
       "<style scoped>\n",
       "    .dataframe tbody tr th:only-of-type {\n",
       "        vertical-align: middle;\n",
       "    }\n",
       "\n",
       "    .dataframe tbody tr th {\n",
       "        vertical-align: top;\n",
       "    }\n",
       "\n",
       "    .dataframe thead th {\n",
       "        text-align: right;\n",
       "    }\n",
       "</style>\n",
       "<table border=\"1\" class=\"dataframe\">\n",
       "  <thead>\n",
       "    <tr style=\"text-align: right;\">\n",
       "      <th></th>\n",
       "      <th>MOVIE</th>\n",
       "      <th>YEAR</th>\n",
       "      <th>RATING</th>\n",
       "    </tr>\n",
       "  </thead>\n",
       "  <tbody>\n",
       "    <tr>\n",
       "      <th>0</th>\n",
       "      <td>\\n      1.\\n      The Shawshank Redemption\\n(1...</td>\n",
       "      <td>(1994)</td>\n",
       "      <td>\\n9.2\\n</td>\n",
       "    </tr>\n",
       "    <tr>\n",
       "      <th>1</th>\n",
       "      <td>\\n      2.\\n      The Godfather\\n(1972)\\n</td>\n",
       "      <td>(1972)</td>\n",
       "      <td>\\n9.2\\n</td>\n",
       "    </tr>\n",
       "    <tr>\n",
       "      <th>2</th>\n",
       "      <td>\\n      3.\\n      The Dark Knight\\n(2008)\\n</td>\n",
       "      <td>(2008)</td>\n",
       "      <td>\\n9.0\\n</td>\n",
       "    </tr>\n",
       "    <tr>\n",
       "      <th>3</th>\n",
       "      <td>\\n      4.\\n      The Godfather Part II\\n(1974)\\n</td>\n",
       "      <td>(1974)</td>\n",
       "      <td>\\n9.0\\n</td>\n",
       "    </tr>\n",
       "    <tr>\n",
       "      <th>4</th>\n",
       "      <td>\\n      5.\\n      12 Angry Men\\n(1957)\\n</td>\n",
       "      <td>(1957)</td>\n",
       "      <td>\\n8.9\\n</td>\n",
       "    </tr>\n",
       "    <tr>\n",
       "      <th>...</th>\n",
       "      <td>...</td>\n",
       "      <td>...</td>\n",
       "      <td>...</td>\n",
       "    </tr>\n",
       "    <tr>\n",
       "      <th>95</th>\n",
       "      <td>\\n      96.\\n      Jagten\\n(2012)\\n</td>\n",
       "      <td>(2012)</td>\n",
       "      <td>\\n8.3\\n</td>\n",
       "    </tr>\n",
       "    <tr>\n",
       "      <th>96</th>\n",
       "      <td>\\n      97.\\n      M - Eine Stadt sucht einen ...</td>\n",
       "      <td>(1931)</td>\n",
       "      <td>\\n8.3\\n</td>\n",
       "    </tr>\n",
       "    <tr>\n",
       "      <th>97</th>\n",
       "      <td>\\n      98.\\n      North by Northwest\\n(1959)\\n</td>\n",
       "      <td>(1959)</td>\n",
       "      <td>\\n8.3\\n</td>\n",
       "    </tr>\n",
       "    <tr>\n",
       "      <th>98</th>\n",
       "      <td>\\n      99.\\n      Vertigo\\n(1958)\\n</td>\n",
       "      <td>(1958)</td>\n",
       "      <td>\\n8.2\\n</td>\n",
       "    </tr>\n",
       "    <tr>\n",
       "      <th>99</th>\n",
       "      <td>\\n      100.\\n      Idi i smotri\\n(1985)\\n</td>\n",
       "      <td>(1985)</td>\n",
       "      <td>\\n8.2\\n</td>\n",
       "    </tr>\n",
       "  </tbody>\n",
       "</table>\n",
       "<p>100 rows × 3 columns</p>\n",
       "</div>"
      ],
      "text/plain": [
       "                                                MOVIE    YEAR   RATING\n",
       "0   \\n      1.\\n      The Shawshank Redemption\\n(1...  (1994)  \\n9.2\\n\n",
       "1           \\n      2.\\n      The Godfather\\n(1972)\\n  (1972)  \\n9.2\\n\n",
       "2         \\n      3.\\n      The Dark Knight\\n(2008)\\n  (2008)  \\n9.0\\n\n",
       "3   \\n      4.\\n      The Godfather Part II\\n(1974)\\n  (1974)  \\n9.0\\n\n",
       "4            \\n      5.\\n      12 Angry Men\\n(1957)\\n  (1957)  \\n8.9\\n\n",
       "..                                                ...     ...      ...\n",
       "95                \\n      96.\\n      Jagten\\n(2012)\\n  (2012)  \\n8.3\\n\n",
       "96  \\n      97.\\n      M - Eine Stadt sucht einen ...  (1931)  \\n8.3\\n\n",
       "97    \\n      98.\\n      North by Northwest\\n(1959)\\n  (1959)  \\n8.3\\n\n",
       "98               \\n      99.\\n      Vertigo\\n(1958)\\n  (1958)  \\n8.2\\n\n",
       "99         \\n      100.\\n      Idi i smotri\\n(1985)\\n  (1985)  \\n8.2\\n\n",
       "\n",
       "[100 rows x 3 columns]"
      ]
     },
     "execution_count": 26,
     "metadata": {},
     "output_type": "execute_result"
    }
   ],
   "source": [
    "IMBD.head(100)"
   ]
  },
  {
   "cell_type": "code",
   "execution_count": null,
   "id": "d96240e2",
   "metadata": {},
   "outputs": [],
   "source": []
  },
  {
   "cell_type": "markdown",
   "id": "41f02245",
   "metadata": {},
   "source": [
    "# Write a python program to display IMDB’s Top rated 100 Indian movies’ data (i.e. name, rating, year of\n",
    "release) and make data frame"
   ]
  },
  {
   "cell_type": "code",
   "execution_count": 27,
   "id": "891a128a",
   "metadata": {},
   "outputs": [],
   "source": [
    "from bs4 import BeautifulSoup\n",
    "import requests"
   ]
  },
  {
   "cell_type": "code",
   "execution_count": 28,
   "id": "3d2190ab",
   "metadata": {},
   "outputs": [
    {
     "data": {
      "text/plain": [
       "<Response [200]>"
      ]
     },
     "execution_count": 28,
     "metadata": {},
     "output_type": "execute_result"
    }
   ],
   "source": [
    "page=requests.get(\"https://www.imdb.com/india/top-rated-indian-movies/\")\n",
    "page"
   ]
  },
  {
   "cell_type": "code",
   "execution_count": 29,
   "id": "5c6a57a1",
   "metadata": {},
   "outputs": [],
   "source": [
    "soup=BeautifulSoup(page.content)"
   ]
  },
  {
   "cell_type": "markdown",
   "id": "6d79874b",
   "metadata": {},
   "source": [
    "Indian Movie Names"
   ]
  },
  {
   "cell_type": "code",
   "execution_count": 30,
   "id": "614b6139",
   "metadata": {},
   "outputs": [
    {
     "data": {
      "text/plain": [
       "'\\n      1.\\n      Rocketry: The Nambi Effect\\n(2022)\\n'"
      ]
     },
     "execution_count": 30,
     "metadata": {},
     "output_type": "execute_result"
    }
   ],
   "source": [
    "names=soup.find(\"td\",class_=\"titleColumn\")\n",
    "names.text"
   ]
  },
  {
   "cell_type": "markdown",
   "id": "1d9cfbdd",
   "metadata": {},
   "source": [
    "Year of release"
   ]
  },
  {
   "cell_type": "code",
   "execution_count": 31,
   "id": "9c190081",
   "metadata": {},
   "outputs": [
    {
     "data": {
      "text/plain": [
       "'(2022)'"
      ]
     },
     "execution_count": 31,
     "metadata": {},
     "output_type": "execute_result"
    }
   ],
   "source": [
    "year=soup.find(\"span\",class_=\"secondaryInfo\")\n",
    "year.text"
   ]
  },
  {
   "cell_type": "markdown",
   "id": "3a82e3c6",
   "metadata": {},
   "source": [
    "Rating of movies"
   ]
  },
  {
   "cell_type": "code",
   "execution_count": 32,
   "id": "6ba3668a",
   "metadata": {},
   "outputs": [
    {
     "data": {
      "text/plain": [
       "'\\n8.5\\n'"
      ]
     },
     "execution_count": 32,
     "metadata": {},
     "output_type": "execute_result"
    }
   ],
   "source": [
    "rating=soup.find(\"td\",class_=\"ratingColumn imdbRating\")\n",
    "rating.text"
   ]
  },
  {
   "cell_type": "markdown",
   "id": "60e39b2a",
   "metadata": {},
   "source": [
    "Multiple movie list"
   ]
  },
  {
   "cell_type": "code",
   "execution_count": 33,
   "id": "244ce636",
   "metadata": {},
   "outputs": [],
   "source": [
    "Names=[]\n",
    "for i in soup.find_all(\"td\",class_=\"titleColumn\"):\n",
    "    Names.append(i.text)"
   ]
  },
  {
   "cell_type": "markdown",
   "id": "285d8912",
   "metadata": {},
   "source": [
    "Multiple movie release year"
   ]
  },
  {
   "cell_type": "code",
   "execution_count": 34,
   "id": "8d0ec6d0",
   "metadata": {},
   "outputs": [],
   "source": [
    "Year=[]\n",
    "for i in soup.find_all(\"span\",class_=\"secondaryInfo\"):\n",
    "    Year.append(i.text)"
   ]
  },
  {
   "cell_type": "markdown",
   "id": "a864f85e",
   "metadata": {},
   "source": [
    "Multiple movie rating"
   ]
  },
  {
   "cell_type": "code",
   "execution_count": 35,
   "id": "26856d39",
   "metadata": {},
   "outputs": [],
   "source": [
    "Rating=[]\n",
    "for i in soup.find_all(\"td\",class_=\"ratingColumn imdbRating\"):\n",
    "    Rating.append(i.text)"
   ]
  },
  {
   "cell_type": "code",
   "execution_count": 36,
   "id": "d0ea8e3f",
   "metadata": {},
   "outputs": [
    {
     "name": "stdout",
     "output_type": "stream",
     "text": [
      "250 250 250\n"
     ]
    }
   ],
   "source": [
    "#printing len \n",
    "print(len(Names),len(Year),len(Rating))"
   ]
  },
  {
   "cell_type": "markdown",
   "id": "dda3ae94",
   "metadata": {},
   "source": [
    "Frame into data frame"
   ]
  },
  {
   "cell_type": "code",
   "execution_count": 37,
   "id": "4868b48f",
   "metadata": {},
   "outputs": [
    {
     "data": {
      "text/html": [
       "<div>\n",
       "<style scoped>\n",
       "    .dataframe tbody tr th:only-of-type {\n",
       "        vertical-align: middle;\n",
       "    }\n",
       "\n",
       "    .dataframe tbody tr th {\n",
       "        vertical-align: top;\n",
       "    }\n",
       "\n",
       "    .dataframe thead th {\n",
       "        text-align: right;\n",
       "    }\n",
       "</style>\n",
       "<table border=\"1\" class=\"dataframe\">\n",
       "  <thead>\n",
       "    <tr style=\"text-align: right;\">\n",
       "      <th></th>\n",
       "      <th>Movies_Name</th>\n",
       "      <th>Year</th>\n",
       "      <th>Rating</th>\n",
       "    </tr>\n",
       "  </thead>\n",
       "  <tbody>\n",
       "    <tr>\n",
       "      <th>0</th>\n",
       "      <td>\\n      1.\\n      Rocketry: The Nambi Effect\\n...</td>\n",
       "      <td>(2022)</td>\n",
       "      <td>\\n8.5\\n</td>\n",
       "    </tr>\n",
       "    <tr>\n",
       "      <th>1</th>\n",
       "      <td>\\n      2.\\n      Anbe Sivam\\n(2003)\\n</td>\n",
       "      <td>(2003)</td>\n",
       "      <td>\\n8.4\\n</td>\n",
       "    </tr>\n",
       "    <tr>\n",
       "      <th>2</th>\n",
       "      <td>\\n      3.\\n      Golmaal\\n(1979)\\n</td>\n",
       "      <td>(1979)</td>\n",
       "      <td>\\n8.4\\n</td>\n",
       "    </tr>\n",
       "    <tr>\n",
       "      <th>3</th>\n",
       "      <td>\\n      4.\\n      Jai Bhim\\n(2021)\\n</td>\n",
       "      <td>(2021)</td>\n",
       "      <td>\\n8.4\\n</td>\n",
       "    </tr>\n",
       "    <tr>\n",
       "      <th>4</th>\n",
       "      <td>\\n      5.\\n      Nayakan\\n(1987)\\n</td>\n",
       "      <td>(1987)</td>\n",
       "      <td>\\n8.4\\n</td>\n",
       "    </tr>\n",
       "    <tr>\n",
       "      <th>...</th>\n",
       "      <td>...</td>\n",
       "      <td>...</td>\n",
       "      <td>...</td>\n",
       "    </tr>\n",
       "    <tr>\n",
       "      <th>245</th>\n",
       "      <td>\\n      246.\\n      24\\n(2016)\\n</td>\n",
       "      <td>(2016)</td>\n",
       "      <td>\\n7.6\\n</td>\n",
       "    </tr>\n",
       "    <tr>\n",
       "      <th>246</th>\n",
       "      <td>\\n      247.\\n      Velaiilla Pattadhari\\n(201...</td>\n",
       "      <td>(2014)</td>\n",
       "      <td>\\n7.6\\n</td>\n",
       "    </tr>\n",
       "    <tr>\n",
       "      <th>247</th>\n",
       "      <td>\\n      248.\\n      Kapoor &amp; Sons\\n(2016)\\n</td>\n",
       "      <td>(2016)</td>\n",
       "      <td>\\n7.6\\n</td>\n",
       "    </tr>\n",
       "    <tr>\n",
       "      <th>248</th>\n",
       "      <td>\\n      249.\\n      Colour Photo\\n(2020)\\n</td>\n",
       "      <td>(2020)</td>\n",
       "      <td>\\n7.6\\n</td>\n",
       "    </tr>\n",
       "    <tr>\n",
       "      <th>249</th>\n",
       "      <td>\\n      250.\\n      Rockstar\\n(2011)\\n</td>\n",
       "      <td>(2011)</td>\n",
       "      <td>\\n7.6\\n</td>\n",
       "    </tr>\n",
       "  </tbody>\n",
       "</table>\n",
       "<p>250 rows × 3 columns</p>\n",
       "</div>"
      ],
      "text/plain": [
       "                                           Movies_Name    Year   Rating\n",
       "0    \\n      1.\\n      Rocketry: The Nambi Effect\\n...  (2022)  \\n8.5\\n\n",
       "1               \\n      2.\\n      Anbe Sivam\\n(2003)\\n  (2003)  \\n8.4\\n\n",
       "2                  \\n      3.\\n      Golmaal\\n(1979)\\n  (1979)  \\n8.4\\n\n",
       "3                 \\n      4.\\n      Jai Bhim\\n(2021)\\n  (2021)  \\n8.4\\n\n",
       "4                  \\n      5.\\n      Nayakan\\n(1987)\\n  (1987)  \\n8.4\\n\n",
       "..                                                 ...     ...      ...\n",
       "245                   \\n      246.\\n      24\\n(2016)\\n  (2016)  \\n7.6\\n\n",
       "246  \\n      247.\\n      Velaiilla Pattadhari\\n(201...  (2014)  \\n7.6\\n\n",
       "247        \\n      248.\\n      Kapoor & Sons\\n(2016)\\n  (2016)  \\n7.6\\n\n",
       "248         \\n      249.\\n      Colour Photo\\n(2020)\\n  (2020)  \\n7.6\\n\n",
       "249             \\n      250.\\n      Rockstar\\n(2011)\\n  (2011)  \\n7.6\\n\n",
       "\n",
       "[250 rows x 3 columns]"
      ]
     },
     "execution_count": 37,
     "metadata": {},
     "output_type": "execute_result"
    }
   ],
   "source": [
    "import pandas as pd\n",
    "INDIANS=pd.DataFrame({\"Movies_Name\":Names,\"Year\":Year,\"Rating\":Rating})\n",
    "INDIANS"
   ]
  },
  {
   "cell_type": "code",
   "execution_count": 38,
   "id": "6de9e4fa",
   "metadata": {},
   "outputs": [
    {
     "data": {
      "text/html": [
       "<div>\n",
       "<style scoped>\n",
       "    .dataframe tbody tr th:only-of-type {\n",
       "        vertical-align: middle;\n",
       "    }\n",
       "\n",
       "    .dataframe tbody tr th {\n",
       "        vertical-align: top;\n",
       "    }\n",
       "\n",
       "    .dataframe thead th {\n",
       "        text-align: right;\n",
       "    }\n",
       "</style>\n",
       "<table border=\"1\" class=\"dataframe\">\n",
       "  <thead>\n",
       "    <tr style=\"text-align: right;\">\n",
       "      <th></th>\n",
       "      <th>Movies_Name</th>\n",
       "      <th>Year</th>\n",
       "      <th>Rating</th>\n",
       "    </tr>\n",
       "  </thead>\n",
       "  <tbody>\n",
       "    <tr>\n",
       "      <th>0</th>\n",
       "      <td>\\n      1.\\n      Rocketry: The Nambi Effect\\n...</td>\n",
       "      <td>(2022)</td>\n",
       "      <td>\\n8.5\\n</td>\n",
       "    </tr>\n",
       "    <tr>\n",
       "      <th>1</th>\n",
       "      <td>\\n      2.\\n      Anbe Sivam\\n(2003)\\n</td>\n",
       "      <td>(2003)</td>\n",
       "      <td>\\n8.4\\n</td>\n",
       "    </tr>\n",
       "    <tr>\n",
       "      <th>2</th>\n",
       "      <td>\\n      3.\\n      Golmaal\\n(1979)\\n</td>\n",
       "      <td>(1979)</td>\n",
       "      <td>\\n8.4\\n</td>\n",
       "    </tr>\n",
       "    <tr>\n",
       "      <th>3</th>\n",
       "      <td>\\n      4.\\n      Jai Bhim\\n(2021)\\n</td>\n",
       "      <td>(2021)</td>\n",
       "      <td>\\n8.4\\n</td>\n",
       "    </tr>\n",
       "    <tr>\n",
       "      <th>4</th>\n",
       "      <td>\\n      5.\\n      Nayakan\\n(1987)\\n</td>\n",
       "      <td>(1987)</td>\n",
       "      <td>\\n8.4\\n</td>\n",
       "    </tr>\n",
       "    <tr>\n",
       "      <th>...</th>\n",
       "      <td>...</td>\n",
       "      <td>...</td>\n",
       "      <td>...</td>\n",
       "    </tr>\n",
       "    <tr>\n",
       "      <th>95</th>\n",
       "      <td>\\n      96.\\n      Rang De Basanti\\n(2006)\\n</td>\n",
       "      <td>(2006)</td>\n",
       "      <td>\\n8.0\\n</td>\n",
       "    </tr>\n",
       "    <tr>\n",
       "      <th>96</th>\n",
       "      <td>\\n      97.\\n      Baasha\\n(1995)\\n</td>\n",
       "      <td>(1995)</td>\n",
       "      <td>\\n8.0\\n</td>\n",
       "    </tr>\n",
       "    <tr>\n",
       "      <th>97</th>\n",
       "      <td>\\n      98.\\n      Baahubali 2: The Conclusion...</td>\n",
       "      <td>(2017)</td>\n",
       "      <td>\\n8.0\\n</td>\n",
       "    </tr>\n",
       "    <tr>\n",
       "      <th>98</th>\n",
       "      <td>\\n      99.\\n      Masaan\\n(2015)\\n</td>\n",
       "      <td>(2015)</td>\n",
       "      <td>\\n8.0\\n</td>\n",
       "    </tr>\n",
       "    <tr>\n",
       "      <th>99</th>\n",
       "      <td>\\n      100.\\n      Kahaani\\n(2012)\\n</td>\n",
       "      <td>(2012)</td>\n",
       "      <td>\\n8.0\\n</td>\n",
       "    </tr>\n",
       "  </tbody>\n",
       "</table>\n",
       "<p>100 rows × 3 columns</p>\n",
       "</div>"
      ],
      "text/plain": [
       "                                          Movies_Name    Year   Rating\n",
       "0   \\n      1.\\n      Rocketry: The Nambi Effect\\n...  (2022)  \\n8.5\\n\n",
       "1              \\n      2.\\n      Anbe Sivam\\n(2003)\\n  (2003)  \\n8.4\\n\n",
       "2                 \\n      3.\\n      Golmaal\\n(1979)\\n  (1979)  \\n8.4\\n\n",
       "3                \\n      4.\\n      Jai Bhim\\n(2021)\\n  (2021)  \\n8.4\\n\n",
       "4                 \\n      5.\\n      Nayakan\\n(1987)\\n  (1987)  \\n8.4\\n\n",
       "..                                                ...     ...      ...\n",
       "95       \\n      96.\\n      Rang De Basanti\\n(2006)\\n  (2006)  \\n8.0\\n\n",
       "96                \\n      97.\\n      Baasha\\n(1995)\\n  (1995)  \\n8.0\\n\n",
       "97  \\n      98.\\n      Baahubali 2: The Conclusion...  (2017)  \\n8.0\\n\n",
       "98                \\n      99.\\n      Masaan\\n(2015)\\n  (2015)  \\n8.0\\n\n",
       "99              \\n      100.\\n      Kahaani\\n(2012)\\n  (2012)  \\n8.0\\n\n",
       "\n",
       "[100 rows x 3 columns]"
      ]
     },
     "execution_count": 38,
     "metadata": {},
     "output_type": "execute_result"
    }
   ],
   "source": [
    "A=INDIANS.head(100)\n",
    "A"
   ]
  },
  {
   "cell_type": "code",
   "execution_count": null,
   "id": "025e8595",
   "metadata": {},
   "outputs": [],
   "source": []
  },
  {
   "cell_type": "markdown",
   "id": "2646ba87",
   "metadata": {},
   "source": [
    "# Write s python program to display list of respected former presidents of India(i.e. Name , Term of office)"
   ]
  },
  {
   "cell_type": "code",
   "execution_count": 39,
   "id": "2b7a2e4a",
   "metadata": {},
   "outputs": [],
   "source": [
    "from bs4 import BeautifulSoup\n",
    "import requests"
   ]
  },
  {
   "cell_type": "code",
   "execution_count": 40,
   "id": "38d80bae",
   "metadata": {},
   "outputs": [
    {
     "data": {
      "text/plain": [
       "<Response [200]>"
      ]
     },
     "execution_count": 40,
     "metadata": {},
     "output_type": "execute_result"
    }
   ],
   "source": [
    "page=requests.get(\"https://presidentofindia.nic.in/former-presidents.htm\")\n",
    "page"
   ]
  },
  {
   "cell_type": "code",
   "execution_count": 41,
   "id": "b2f964de",
   "metadata": {},
   "outputs": [],
   "source": [
    "soup=BeautifulSoup(page.content)"
   ]
  },
  {
   "cell_type": "markdown",
   "id": "1125bcd3",
   "metadata": {},
   "source": [
    "President Names"
   ]
  },
  {
   "cell_type": "code",
   "execution_count": 42,
   "id": "be7673cf",
   "metadata": {},
   "outputs": [
    {
     "data": {
      "text/plain": [
       "'\\nShri Ram Nath Kovind (birth - 1945)\\nTerm of Office: 25 July, 2017 to 25 July, 2022 \\nhttps://ramnathkovind.nic.in\\n'"
      ]
     },
     "execution_count": 42,
     "metadata": {},
     "output_type": "execute_result"
    }
   ],
   "source": [
    "Names=soup.find('div',class_=\"presidentListing\")\n",
    "Names.text"
   ]
  },
  {
   "cell_type": "code",
   "execution_count": 43,
   "id": "c0e3e58c",
   "metadata": {},
   "outputs": [],
   "source": [
    "President_Names=[]\n",
    "\n",
    "for i in soup.find_all('div',class_=\"presidentListing\"):\n",
    "    President_Names.append(i.text)"
   ]
  },
  {
   "cell_type": "code",
   "execution_count": 44,
   "id": "99c4bac7",
   "metadata": {},
   "outputs": [
    {
     "data": {
      "text/plain": [
       "['\\nShri Ram Nath Kovind (birth - 1945)\\nTerm of Office: 25 July, 2017 to 25 July, 2022 \\nhttps://ramnathkovind.nic.in\\n',\n",
       " '\\nShri Pranab Mukherjee (1935-2020)\\nTerm of Office: 25 July, 2012 to 25 July, 2017 \\nhttp://pranabmukherjee.nic.in\\n',\n",
       " '\\nSmt Pratibha Devisingh Patil (birth - 1934)\\nTerm of Office: 25 July, 2007 to 25 July, 2012 \\nhttp://pratibhapatil.nic.in\\n',\n",
       " '\\nDR. A.P.J. Abdul Kalam (1931-2015)\\nTerm of Office: 25 July, 2002 to 25 July, 2007 \\nhttp://abdulkalam.nic.in\\n',\n",
       " '\\nShri K. R. Narayanan (1920 - 2005)\\nTerm of Office: 25 July, 1997 to 25 July, 2002 \\n',\n",
       " '\\nDr Shankar Dayal Sharma (1918-1999)\\nTerm of Office: 25 July, 1992 to 25 July, 1997 \\n',\n",
       " '\\nShri R Venkataraman (1910-2009)\\nTerm of Office: 25 July, 1987 to 25 July, 1992 \\n',\n",
       " '\\nGiani Zail Singh (1916-1994)\\nTerm of Office: 25 July, 1982 to 25 July, 1987 \\n',\n",
       " '\\nShri Neelam Sanjiva Reddy (1913-1996)\\nTerm of Office: 25 July, 1977 to 25 July, 1982 \\n',\n",
       " '\\nDr. Fakhruddin Ali Ahmed (1905-1977)\\nTerm of Office: 24 August, 1974 to 11 February, 1977\\n',\n",
       " '\\nShri Varahagiri Venkata Giri (1894-1980)\\nTerm of Office: 3 May, 1969 to 20 July, 1969 and 24 August, 1969 to 24 August, 1974\\n',\n",
       " '\\nDr. Zakir Husain (1897-1969)\\nTerm of Office: 13 May, 1967 to 3 May, 1969\\n',\n",
       " '\\nDr. Sarvepalli Radhakrishnan (1888-1975)\\nTerm of Office: 13 May, 1962 to 13 May, 1967\\n',\n",
       " '\\nDr. Rajendra Prasad (1884-1963) \\nTerm of Office: 26 January, 1950 to 13 May, 1962\\n']"
      ]
     },
     "execution_count": 44,
     "metadata": {},
     "output_type": "execute_result"
    }
   ],
   "source": [
    "President_Names"
   ]
  },
  {
   "cell_type": "code",
   "execution_count": 45,
   "id": "ec8948ba",
   "metadata": {},
   "outputs": [
    {
     "name": "stdout",
     "output_type": "stream",
     "text": [
      "\n",
      "Shri Ram Nath Kovind (birth - 1945)\n",
      "Term of Office: 25 July, 2017 to 25 July, 2022 \n",
      "https://ramnathkovind.nic.in\n",
      "\n",
      "\n",
      "Shri Pranab Mukherjee (1935-2020)\n",
      "Term of Office: 25 July, 2012 to 25 July, 2017 \n",
      "http://pranabmukherjee.nic.in\n",
      "\n",
      "\n",
      "Smt Pratibha Devisingh Patil (birth - 1934)\n",
      "Term of Office: 25 July, 2007 to 25 July, 2012 \n",
      "http://pratibhapatil.nic.in\n",
      "\n",
      "\n",
      "DR. A.P.J. Abdul Kalam (1931-2015)\n",
      "Term of Office: 25 July, 2002 to 25 July, 2007 \n",
      "http://abdulkalam.nic.in\n",
      "\n",
      "\n",
      "Shri K. R. Narayanan (1920 - 2005)\n",
      "Term of Office: 25 July, 1997 to 25 July, 2002 \n",
      "\n",
      "\n",
      "Dr Shankar Dayal Sharma (1918-1999)\n",
      "Term of Office: 25 July, 1992 to 25 July, 1997 \n",
      "\n",
      "\n",
      "Shri R Venkataraman (1910-2009)\n",
      "Term of Office: 25 July, 1987 to 25 July, 1992 \n",
      "\n",
      "\n",
      "Giani Zail Singh (1916-1994)\n",
      "Term of Office: 25 July, 1982 to 25 July, 1987 \n",
      "\n",
      "\n",
      "Shri Neelam Sanjiva Reddy (1913-1996)\n",
      "Term of Office: 25 July, 1977 to 25 July, 1982 \n",
      "\n",
      "\n",
      "Dr. Fakhruddin Ali Ahmed (1905-1977)\n",
      "Term of Office: 24 August, 1974 to 11 February, 1977\n",
      "\n",
      "\n",
      "Shri Varahagiri Venkata Giri (1894-1980)\n",
      "Term of Office: 3 May, 1969 to 20 July, 1969 and 24 August, 1969 to 24 August, 1974\n",
      "\n",
      "\n",
      "Dr. Zakir Husain (1897-1969)\n",
      "Term of Office: 13 May, 1967 to 3 May, 1969\n",
      "\n",
      "\n",
      "Dr. Sarvepalli Radhakrishnan (1888-1975)\n",
      "Term of Office: 13 May, 1962 to 13 May, 1967\n",
      "\n",
      "\n",
      "Dr. Rajendra Prasad (1884-1963) \n",
      "Term of Office: 26 January, 1950 to 13 May, 1962\n",
      "\n"
     ]
    }
   ],
   "source": [
    "for i in President_Names:\n",
    "    print(i)"
   ]
  },
  {
   "cell_type": "code",
   "execution_count": null,
   "id": "d3f337b9",
   "metadata": {},
   "outputs": [],
   "source": []
  },
  {
   "cell_type": "markdown",
   "id": "24b8bdd0",
   "metadata": {},
   "source": [
    "# Write a python program to scrape mentioned details from dineout.co.in"
   ]
  },
  {
   "cell_type": "code",
   "execution_count": 46,
   "id": "084bbe37",
   "metadata": {},
   "outputs": [],
   "source": [
    "from bs4 import BeautifulSoup\n",
    "import requests"
   ]
  },
  {
   "cell_type": "code",
   "execution_count": 47,
   "id": "0e340a05",
   "metadata": {},
   "outputs": [
    {
     "data": {
      "text/plain": [
       "<Response [200]>"
      ]
     },
     "execution_count": 47,
     "metadata": {},
     "output_type": "execute_result"
    }
   ],
   "source": [
    "page=requests.get(\"https://www.dineout.co.in/delhi-restaurants/buffet-special\")\n",
    "page"
   ]
  },
  {
   "cell_type": "code",
   "execution_count": 48,
   "id": "f6d55458",
   "metadata": {},
   "outputs": [],
   "source": [
    "soup=BeautifulSoup(page.content)"
   ]
  },
  {
   "cell_type": "markdown",
   "id": "cb4ea0a2",
   "metadata": {},
   "source": [
    "RESTAURENT NAME"
   ]
  },
  {
   "cell_type": "code",
   "execution_count": 49,
   "id": "ba0c6808",
   "metadata": {},
   "outputs": [
    {
     "data": {
      "text/plain": [
       "'Castle BarbequeConnaught Place, Central Delhi'"
      ]
     },
     "execution_count": 49,
     "metadata": {},
     "output_type": "execute_result"
    }
   ],
   "source": [
    "res=soup.find(\"div\",class_=\"restnt-info cursor\")\n",
    "res.text"
   ]
  },
  {
   "cell_type": "markdown",
   "id": "a0728cd0",
   "metadata": {},
   "source": [
    "CUSINE"
   ]
  },
  {
   "cell_type": "code",
   "execution_count": 50,
   "id": "7d59c724",
   "metadata": {},
   "outputs": [
    {
     "data": {
      "text/plain": [
       "['North', 'Indian,', 'Chinese']"
      ]
     },
     "execution_count": 50,
     "metadata": {},
     "output_type": "execute_result"
    }
   ],
   "source": [
    "cus=soup.find(\"div\",class_=\"detail-info\")\n",
    "cus.text.split()[6:]"
   ]
  },
  {
   "cell_type": "markdown",
   "id": "47ab08a3",
   "metadata": {},
   "source": [
    "LOCATION "
   ]
  },
  {
   "cell_type": "code",
   "execution_count": 51,
   "id": "f6d4e851",
   "metadata": {},
   "outputs": [
    {
     "data": {
      "text/plain": [
       "'Connaught Place, Central Delhi'"
      ]
     },
     "execution_count": 51,
     "metadata": {},
     "output_type": "execute_result"
    }
   ],
   "source": [
    "loc=soup.find(\"div\",class_=\"restnt-loc ellipsis\")\n",
    "loc.text"
   ]
  },
  {
   "cell_type": "markdown",
   "id": "bee1dd36",
   "metadata": {},
   "source": [
    "IMAGE URL"
   ]
  },
  {
   "cell_type": "code",
   "execution_count": 52,
   "id": "0fa8d0b0",
   "metadata": {},
   "outputs": [
    {
     "data": {
      "text/plain": [
       "<img alt=\"Castle Barbeque\" class=\"lazy-load-img no-img\" data-gatype=\"RestaurantImageClick\" data-src=\"https://im1.dineout.co.in/images/uploads/restaurant/sharpen/8/k/b/p86792-16062953735fbe1f4d3fb7e.jpg?tr=tr:n-medium\" data-url=\"/delhi/castle-barbeque-connaught-place-central-delhi-86792\" data-w-onclick=\"cardClickHandler\"/>"
      ]
     },
     "execution_count": 52,
     "metadata": {},
     "output_type": "execute_result"
    }
   ],
   "source": [
    "img=soup.find(\"img\",class_=\"no-img\")\n",
    "img"
   ]
  },
  {
   "cell_type": "markdown",
   "id": "151e74ca",
   "metadata": {},
   "source": [
    "RATING"
   ]
  },
  {
   "cell_type": "code",
   "execution_count": 53,
   "id": "34610b53",
   "metadata": {},
   "outputs": [
    {
     "data": {
      "text/plain": [
       "'4.1'"
      ]
     },
     "execution_count": 53,
     "metadata": {},
     "output_type": "execute_result"
    }
   ],
   "source": [
    "rate=soup.find(\"div\",class_=\"restnt-rating rating-4\")\n",
    "rate.text"
   ]
  },
  {
   "cell_type": "markdown",
   "id": "949548bf",
   "metadata": {},
   "source": [
    "MULTIPLE RESTAURENT"
   ]
  },
  {
   "cell_type": "code",
   "execution_count": 54,
   "id": "c09d6131",
   "metadata": {},
   "outputs": [],
   "source": [
    "res=[]\n",
    "\n",
    "for i in soup.find_all(\"div\",class_=\"restnt-info cursor\"):\n",
    "    res.append(i.text)"
   ]
  },
  {
   "cell_type": "markdown",
   "id": "6f392771",
   "metadata": {},
   "source": [
    "MULTIPLE RESTAURENT LOCATION"
   ]
  },
  {
   "cell_type": "code",
   "execution_count": 55,
   "id": "6070a373",
   "metadata": {},
   "outputs": [],
   "source": [
    "loc=[]\n",
    "\n",
    "for i in soup.find_all(\"div\",class_=\"restnt-loc ellipsis\"):\n",
    "    loc.append(i.text)"
   ]
  },
  {
   "cell_type": "markdown",
   "id": "8b5f5d76",
   "metadata": {},
   "source": [
    "MULTIPLE RESTAURENT CUSINE"
   ]
  },
  {
   "cell_type": "code",
   "execution_count": 56,
   "id": "1030ccf1",
   "metadata": {},
   "outputs": [],
   "source": [
    "cus=[]\n",
    "\n",
    "for i in soup.find_all(\"div\",class_=\"detail-info\"):\n",
    "    cus.append(i.text)"
   ]
  },
  {
   "cell_type": "markdown",
   "id": "9e5421d1",
   "metadata": {},
   "source": [
    "MULTIPLE RESTAURENT RATING"
   ]
  },
  {
   "cell_type": "code",
   "execution_count": 57,
   "id": "4288ca33",
   "metadata": {},
   "outputs": [],
   "source": [
    "rate=[]\n",
    "\n",
    "for i in soup.find_all(\"div\",class_=\"restnt-rating rating-4\"):\n",
    "    rate.append(i.text)"
   ]
  },
  {
   "cell_type": "markdown",
   "id": "66434c3e",
   "metadata": {},
   "source": [
    "IMAGE URL"
   ]
  },
  {
   "cell_type": "code",
   "execution_count": 58,
   "id": "1b2cd0c4",
   "metadata": {},
   "outputs": [],
   "source": [
    "img=[]\n",
    "\n",
    "for i in soup.find_all(\"img\",class_=\"no-img\"):\n",
    "    img.append(i[\"data-src\"])"
   ]
  },
  {
   "cell_type": "code",
   "execution_count": 59,
   "id": "66d57a59",
   "metadata": {},
   "outputs": [
    {
     "name": "stdout",
     "output_type": "stream",
     "text": [
      "9 9 9 9 9\n"
     ]
    }
   ],
   "source": [
    "#printing len\n",
    "print(len(res),len(rate),len(cus),len(img),len(loc))"
   ]
  },
  {
   "cell_type": "code",
   "execution_count": 60,
   "id": "b0e9de43",
   "metadata": {},
   "outputs": [
    {
     "data": {
      "text/html": [
       "<div>\n",
       "<style scoped>\n",
       "    .dataframe tbody tr th:only-of-type {\n",
       "        vertical-align: middle;\n",
       "    }\n",
       "\n",
       "    .dataframe tbody tr th {\n",
       "        vertical-align: top;\n",
       "    }\n",
       "\n",
       "    .dataframe thead th {\n",
       "        text-align: right;\n",
       "    }\n",
       "</style>\n",
       "<table border=\"1\" class=\"dataframe\">\n",
       "  <thead>\n",
       "    <tr style=\"text-align: right;\">\n",
       "      <th></th>\n",
       "      <th>RESTAURENT</th>\n",
       "      <th>CUSINE</th>\n",
       "      <th>LOCATION</th>\n",
       "      <th>RATING</th>\n",
       "      <th>IMAGE_URL</th>\n",
       "    </tr>\n",
       "  </thead>\n",
       "  <tbody>\n",
       "    <tr>\n",
       "      <th>0</th>\n",
       "      <td>Castle BarbequeConnaught Place, Central Delhi</td>\n",
       "      <td>₹ 2,000 for 2 (approx) | North Indian, Chinese</td>\n",
       "      <td>Connaught Place, Central Delhi</td>\n",
       "      <td>4.1</td>\n",
       "      <td>https://im1.dineout.co.in/images/uploads/resta...</td>\n",
       "    </tr>\n",
       "    <tr>\n",
       "      <th>1</th>\n",
       "      <td>Jungle Jamboree3CS Mall,Lajpat Nagar - 3, Sout...</td>\n",
       "      <td>₹ 1,680 for 2 (approx) | North Indian, Asian, ...</td>\n",
       "      <td>3CS Mall,Lajpat Nagar - 3, South Delhi</td>\n",
       "      <td>3.9</td>\n",
       "      <td>https://im1.dineout.co.in/images/uploads/resta...</td>\n",
       "    </tr>\n",
       "    <tr>\n",
       "      <th>2</th>\n",
       "      <td>Castle BarbequePacific Mall,Tagore Garden, Wes...</td>\n",
       "      <td>₹ 2,000 for 2 (approx) | Chinese, North Indian</td>\n",
       "      <td>Pacific Mall,Tagore Garden, West Delhi</td>\n",
       "      <td>3.9</td>\n",
       "      <td>https://im1.dineout.co.in/images/uploads/resta...</td>\n",
       "    </tr>\n",
       "    <tr>\n",
       "      <th>3</th>\n",
       "      <td>Cafe KnoshThe Leela Ambience Convention Hotel,...</td>\n",
       "      <td>₹ 3,000 for 2 (approx) | Italian, Continental</td>\n",
       "      <td>The Leela Ambience Convention Hotel,Shahdara, ...</td>\n",
       "      <td>4.3</td>\n",
       "      <td>https://im1.dineout.co.in/images/uploads/resta...</td>\n",
       "    </tr>\n",
       "    <tr>\n",
       "      <th>4</th>\n",
       "      <td>The Barbeque CompanyGardens Galleria,Sector 38...</td>\n",
       "      <td>₹ 1,700 for 2 (approx) | North Indian, Chinese...</td>\n",
       "      <td>Gardens Galleria,Sector 38A, Noida</td>\n",
       "      <td>4</td>\n",
       "      <td>https://im1.dineout.co.in/images/uploads/resta...</td>\n",
       "    </tr>\n",
       "    <tr>\n",
       "      <th>5</th>\n",
       "      <td>India GrillHilton Garden Inn,Saket, South Delhi</td>\n",
       "      <td>₹ 2,400 for 2 (approx) | North Indian, Italian</td>\n",
       "      <td>Hilton Garden Inn,Saket, South Delhi</td>\n",
       "      <td>3.9</td>\n",
       "      <td>https://im1.dineout.co.in/images/uploads/resta...</td>\n",
       "    </tr>\n",
       "    <tr>\n",
       "      <th>6</th>\n",
       "      <td>Delhi BarbequeTaurus Sarovar Portico,Mahipalpu...</td>\n",
       "      <td>₹ 1,800 for 2 (approx) | North Indian</td>\n",
       "      <td>Taurus Sarovar Portico,Mahipalpur, South Delhi</td>\n",
       "      <td>3.7</td>\n",
       "      <td>https://im1.dineout.co.in/images/uploads/resta...</td>\n",
       "    </tr>\n",
       "    <tr>\n",
       "      <th>7</th>\n",
       "      <td>The Monarch - Bar Be Que VillageIndirapuram Ha...</td>\n",
       "      <td>₹ 1,900 for 2 (approx) | North Indian</td>\n",
       "      <td>Indirapuram Habitat Centre,Indirapuram, Ghaziabad</td>\n",
       "      <td>3.8</td>\n",
       "      <td>https://im1.dineout.co.in/images/uploads/resta...</td>\n",
       "    </tr>\n",
       "    <tr>\n",
       "      <th>8</th>\n",
       "      <td>Indian Grill RoomSuncity Business Tower,Golf C...</td>\n",
       "      <td>₹ 2,200 for 2 (approx) | North Indian, Mughlai</td>\n",
       "      <td>Suncity Business Tower,Golf Course Road, Gurgaon</td>\n",
       "      <td>4.3</td>\n",
       "      <td>https://im1.dineout.co.in/images/uploads/resta...</td>\n",
       "    </tr>\n",
       "  </tbody>\n",
       "</table>\n",
       "</div>"
      ],
      "text/plain": [
       "                                          RESTAURENT  \\\n",
       "0      Castle BarbequeConnaught Place, Central Delhi   \n",
       "1  Jungle Jamboree3CS Mall,Lajpat Nagar - 3, Sout...   \n",
       "2  Castle BarbequePacific Mall,Tagore Garden, Wes...   \n",
       "3  Cafe KnoshThe Leela Ambience Convention Hotel,...   \n",
       "4  The Barbeque CompanyGardens Galleria,Sector 38...   \n",
       "5    India GrillHilton Garden Inn,Saket, South Delhi   \n",
       "6  Delhi BarbequeTaurus Sarovar Portico,Mahipalpu...   \n",
       "7  The Monarch - Bar Be Que VillageIndirapuram Ha...   \n",
       "8  Indian Grill RoomSuncity Business Tower,Golf C...   \n",
       "\n",
       "                                              CUSINE  \\\n",
       "0     ₹ 2,000 for 2 (approx) | North Indian, Chinese   \n",
       "1  ₹ 1,680 for 2 (approx) | North Indian, Asian, ...   \n",
       "2     ₹ 2,000 for 2 (approx) | Chinese, North Indian   \n",
       "3      ₹ 3,000 for 2 (approx) | Italian, Continental   \n",
       "4  ₹ 1,700 for 2 (approx) | North Indian, Chinese...   \n",
       "5     ₹ 2,400 for 2 (approx) | North Indian, Italian   \n",
       "6              ₹ 1,800 for 2 (approx) | North Indian   \n",
       "7              ₹ 1,900 for 2 (approx) | North Indian   \n",
       "8     ₹ 2,200 for 2 (approx) | North Indian, Mughlai   \n",
       "\n",
       "                                            LOCATION RATING  \\\n",
       "0                     Connaught Place, Central Delhi    4.1   \n",
       "1             3CS Mall,Lajpat Nagar - 3, South Delhi    3.9   \n",
       "2             Pacific Mall,Tagore Garden, West Delhi    3.9   \n",
       "3  The Leela Ambience Convention Hotel,Shahdara, ...    4.3   \n",
       "4                 Gardens Galleria,Sector 38A, Noida      4   \n",
       "5               Hilton Garden Inn,Saket, South Delhi    3.9   \n",
       "6     Taurus Sarovar Portico,Mahipalpur, South Delhi    3.7   \n",
       "7  Indirapuram Habitat Centre,Indirapuram, Ghaziabad    3.8   \n",
       "8   Suncity Business Tower,Golf Course Road, Gurgaon    4.3   \n",
       "\n",
       "                                           IMAGE_URL  \n",
       "0  https://im1.dineout.co.in/images/uploads/resta...  \n",
       "1  https://im1.dineout.co.in/images/uploads/resta...  \n",
       "2  https://im1.dineout.co.in/images/uploads/resta...  \n",
       "3  https://im1.dineout.co.in/images/uploads/resta...  \n",
       "4  https://im1.dineout.co.in/images/uploads/resta...  \n",
       "5  https://im1.dineout.co.in/images/uploads/resta...  \n",
       "6  https://im1.dineout.co.in/images/uploads/resta...  \n",
       "7  https://im1.dineout.co.in/images/uploads/resta...  \n",
       "8  https://im1.dineout.co.in/images/uploads/resta...  "
      ]
     },
     "execution_count": 60,
     "metadata": {},
     "output_type": "execute_result"
    }
   ],
   "source": [
    "import pandas as pd\n",
    "df=pd.DataFrame({\"RESTAURENT\":res,\"CUSINE\":cus,\"LOCATION\":loc,\"RATING\":rate,\"IMAGE_URL\":img})\n",
    "df"
   ]
  },
  {
   "cell_type": "code",
   "execution_count": null,
   "id": "5107758b",
   "metadata": {},
   "outputs": [],
   "source": []
  },
  {
   "cell_type": "markdown",
   "id": "cdf933f0",
   "metadata": {},
   "source": [
    "# Write a python program to scrape the details of top publications from Google Scholar"
   ]
  },
  {
   "cell_type": "code",
   "execution_count": 61,
   "id": "5851f655",
   "metadata": {},
   "outputs": [
    {
     "data": {
      "text/plain": [
       "<Response [200]>"
      ]
     },
     "execution_count": 61,
     "metadata": {},
     "output_type": "execute_result"
    }
   ],
   "source": [
    "page=requests.get(\"https://scholar.google.com/citations?view_op=top_venues&hl=en\")\n",
    "page"
   ]
  },
  {
   "cell_type": "code",
   "execution_count": 62,
   "id": "b628ae3b",
   "metadata": {},
   "outputs": [],
   "source": [
    "soup=BeautifulSoup(page.content)"
   ]
  },
  {
   "cell_type": "markdown",
   "id": "d8233ec2",
   "metadata": {},
   "source": [
    "MULTIPLE RANK"
   ]
  },
  {
   "cell_type": "code",
   "execution_count": 63,
   "id": "f0636a03",
   "metadata": {},
   "outputs": [],
   "source": [
    "rank=[]\n",
    "for i in soup.find_all(\"td\",class_=\"gsc_mvt_p\"):\n",
    "    rank.append(i.text)\n"
   ]
  },
  {
   "cell_type": "markdown",
   "id": "399fb427",
   "metadata": {},
   "source": [
    "MULTIPLE PUBLICATION"
   ]
  },
  {
   "cell_type": "code",
   "execution_count": 64,
   "id": "e2ab5b2f",
   "metadata": {},
   "outputs": [],
   "source": [
    "pub=[]\n",
    "for i in soup.find_all(\"td\",class_=\"gsc_mvt_t\"):\n",
    "    pub.append(i.text)"
   ]
  },
  {
   "cell_type": "markdown",
   "id": "15a1feb5",
   "metadata": {},
   "source": [
    "MULTIPLE H5-INDEX"
   ]
  },
  {
   "cell_type": "code",
   "execution_count": 65,
   "id": "13515b11",
   "metadata": {},
   "outputs": [],
   "source": [
    "h5=[]\n",
    "for i in soup.find_all(\"a\",class_=\"gs_ibl gsc_mp_anchor\"):\n",
    "    h5.append(i.text)"
   ]
  },
  {
   "cell_type": "markdown",
   "id": "d5302f8f",
   "metadata": {},
   "source": [
    "MULTIPLE H5-MEDIAN"
   ]
  },
  {
   "cell_type": "code",
   "execution_count": 66,
   "id": "499ca649",
   "metadata": {},
   "outputs": [],
   "source": [
    "h5m=[]\n",
    "for i in soup.find_all(\"span\",class_=\"gs_ibl gsc_mp_anchor\"):\n",
    "    h5m.append(i.text)"
   ]
  },
  {
   "cell_type": "code",
   "execution_count": 67,
   "id": "3b3a87d7",
   "metadata": {},
   "outputs": [
    {
     "name": "stdout",
     "output_type": "stream",
     "text": [
      "100 100 100 100\n"
     ]
    }
   ],
   "source": [
    "#printing len\n",
    "print(len(rank),len(pub),len(h5),len(h5m))"
   ]
  },
  {
   "cell_type": "markdown",
   "id": "3a64b894",
   "metadata": {},
   "source": [
    "FRAME INTO DATAFRAME"
   ]
  },
  {
   "cell_type": "code",
   "execution_count": 68,
   "id": "3ba2c14a",
   "metadata": {},
   "outputs": [
    {
     "data": {
      "text/html": [
       "<div>\n",
       "<style scoped>\n",
       "    .dataframe tbody tr th:only-of-type {\n",
       "        vertical-align: middle;\n",
       "    }\n",
       "\n",
       "    .dataframe tbody tr th {\n",
       "        vertical-align: top;\n",
       "    }\n",
       "\n",
       "    .dataframe thead th {\n",
       "        text-align: right;\n",
       "    }\n",
       "</style>\n",
       "<table border=\"1\" class=\"dataframe\">\n",
       "  <thead>\n",
       "    <tr style=\"text-align: right;\">\n",
       "      <th></th>\n",
       "      <th>PBLICATION</th>\n",
       "      <th>H5_INDEX</th>\n",
       "      <th>HS-MEDIAN</th>\n",
       "    </tr>\n",
       "    <tr>\n",
       "      <th>RANK</th>\n",
       "      <th></th>\n",
       "      <th></th>\n",
       "      <th></th>\n",
       "    </tr>\n",
       "  </thead>\n",
       "  <tbody>\n",
       "    <tr>\n",
       "      <th>1.</th>\n",
       "      <td>Nature</td>\n",
       "      <td>444</td>\n",
       "      <td>667</td>\n",
       "    </tr>\n",
       "    <tr>\n",
       "      <th>2.</th>\n",
       "      <td>The New England Journal of Medicine</td>\n",
       "      <td>432</td>\n",
       "      <td>780</td>\n",
       "    </tr>\n",
       "    <tr>\n",
       "      <th>3.</th>\n",
       "      <td>Science</td>\n",
       "      <td>401</td>\n",
       "      <td>614</td>\n",
       "    </tr>\n",
       "    <tr>\n",
       "      <th>4.</th>\n",
       "      <td>IEEE/CVF Conference on Computer Vision and Pat...</td>\n",
       "      <td>389</td>\n",
       "      <td>627</td>\n",
       "    </tr>\n",
       "    <tr>\n",
       "      <th>5.</th>\n",
       "      <td>The Lancet</td>\n",
       "      <td>354</td>\n",
       "      <td>635</td>\n",
       "    </tr>\n",
       "    <tr>\n",
       "      <th>...</th>\n",
       "      <td>...</td>\n",
       "      <td>...</td>\n",
       "      <td>...</td>\n",
       "    </tr>\n",
       "    <tr>\n",
       "      <th>96.</th>\n",
       "      <td>Journal of Business Research</td>\n",
       "      <td>145</td>\n",
       "      <td>233</td>\n",
       "    </tr>\n",
       "    <tr>\n",
       "      <th>97.</th>\n",
       "      <td>Molecular Cancer</td>\n",
       "      <td>145</td>\n",
       "      <td>209</td>\n",
       "    </tr>\n",
       "    <tr>\n",
       "      <th>98.</th>\n",
       "      <td>Sensors</td>\n",
       "      <td>145</td>\n",
       "      <td>201</td>\n",
       "    </tr>\n",
       "    <tr>\n",
       "      <th>99.</th>\n",
       "      <td>Nature Climate Change</td>\n",
       "      <td>144</td>\n",
       "      <td>228</td>\n",
       "    </tr>\n",
       "    <tr>\n",
       "      <th>100.</th>\n",
       "      <td>IEEE Internet of Things Journal</td>\n",
       "      <td>144</td>\n",
       "      <td>212</td>\n",
       "    </tr>\n",
       "  </tbody>\n",
       "</table>\n",
       "<p>100 rows × 3 columns</p>\n",
       "</div>"
      ],
      "text/plain": [
       "                                          PBLICATION    H5_INDEX HS-MEDIAN\n",
       "RANK                                                                      \n",
       "1.                                               Nature      444       667\n",
       "2.                  The New England Journal of Medicine      432       780\n",
       "3.                                              Science      401       614\n",
       "4.    IEEE/CVF Conference on Computer Vision and Pat...      389       627\n",
       "5.                                           The Lancet      354       635\n",
       "...                                                 ...      ...       ...\n",
       "96.                        Journal of Business Research      145       233\n",
       "97.                                    Molecular Cancer      145       209\n",
       "98.                                             Sensors      145       201\n",
       "99.                               Nature Climate Change      144       228\n",
       "100.                    IEEE Internet of Things Journal      144       212\n",
       "\n",
       "[100 rows x 3 columns]"
      ]
     },
     "execution_count": 68,
     "metadata": {},
     "output_type": "execute_result"
    }
   ],
   "source": [
    "import pandas as pd\n",
    "df=pd.DataFrame({\"RANK\":rank,\"PBLICATION   \":pub,\"H5_INDEX\":h5,  \"HS-MEDIAN\":h5m})\n",
    "df.set_index('RANK')"
   ]
  },
  {
   "cell_type": "code",
   "execution_count": null,
   "id": "fba0d906",
   "metadata": {},
   "outputs": [],
   "source": []
  },
  {
   "cell_type": "markdown",
   "id": "f374bab1",
   "metadata": {},
   "source": [
    "# Write a python program to scrape the details of most downloaded articles from AI in last 90 days."
   ]
  },
  {
   "cell_type": "code",
   "execution_count": 69,
   "id": "f4bec71b",
   "metadata": {},
   "outputs": [
    {
     "data": {
      "text/plain": [
       "<Response [200]>"
      ]
     },
     "execution_count": 69,
     "metadata": {},
     "output_type": "execute_result"
    }
   ],
   "source": [
    "page=requests.get(\"https://www.journals.elsevier.com/artificial-intelligence/most-downloaded-articles\")\n",
    "page"
   ]
  },
  {
   "cell_type": "code",
   "execution_count": 70,
   "id": "8254b00d",
   "metadata": {},
   "outputs": [],
   "source": [
    "soup=BeautifulSoup(page.content)"
   ]
  },
  {
   "cell_type": "markdown",
   "id": "5d76e3e5",
   "metadata": {},
   "source": [
    "MULTIPLE TITLE "
   ]
  },
  {
   "cell_type": "code",
   "execution_count": 71,
   "id": "02e0af5a",
   "metadata": {},
   "outputs": [],
   "source": [
    "page=[]\n",
    "for i in soup.find_all(\"h2\",class_=\"sc-1qrq3sd-1 MKjKb sc-1nmom32-0 sc-1nmom32-1 hqhUYH ebTA-dR\"):\n",
    "    page.append(i.text)"
   ]
  },
  {
   "cell_type": "markdown",
   "id": "4e9de2f3",
   "metadata": {},
   "source": [
    "MULTILE TITLE AUTHOR"
   ]
  },
  {
   "cell_type": "code",
   "execution_count": 72,
   "id": "4ad2c3c9",
   "metadata": {},
   "outputs": [],
   "source": [
    "aut=[]\n",
    "for i in soup.find_all(\"span\",class_=\"sc-1w3fpd7-0 pgLAT\"):\n",
    "    aut.append(i.text)"
   ]
  },
  {
   "cell_type": "markdown",
   "id": "8fe3103c",
   "metadata": {},
   "source": [
    "MULTIPLE TITLE PUBLISED DATE"
   ]
  },
  {
   "cell_type": "code",
   "execution_count": 73,
   "id": "6d493c4b",
   "metadata": {},
   "outputs": [],
   "source": [
    "date=[]\n",
    "for i in soup.find_all(\"span\",class_=\"sc-1thf9ly-2 bKddwo\"):\n",
    "    date.append(i.text)"
   ]
  },
  {
   "cell_type": "code",
   "execution_count": 74,
   "id": "55c34ab5",
   "metadata": {},
   "outputs": [
    {
     "data": {
      "text/html": [
       "<div>\n",
       "<style scoped>\n",
       "    .dataframe tbody tr th:only-of-type {\n",
       "        vertical-align: middle;\n",
       "    }\n",
       "\n",
       "    .dataframe tbody tr th {\n",
       "        vertical-align: top;\n",
       "    }\n",
       "\n",
       "    .dataframe thead th {\n",
       "        text-align: right;\n",
       "    }\n",
       "</style>\n",
       "<table border=\"1\" class=\"dataframe\">\n",
       "  <thead>\n",
       "    <tr style=\"text-align: right;\">\n",
       "      <th></th>\n",
       "      <th>TITLE</th>\n",
       "      <th>AUTHOR</th>\n",
       "      <th>DATE</th>\n",
       "    </tr>\n",
       "  </thead>\n",
       "  <tbody>\n",
       "    <tr>\n",
       "      <th>0</th>\n",
       "      <td>Reward is enough</td>\n",
       "      <td>Silver, David, Singh, Satinder, Precup, Doina,...</td>\n",
       "      <td>October 2021</td>\n",
       "    </tr>\n",
       "    <tr>\n",
       "      <th>1</th>\n",
       "      <td>Making sense of raw input</td>\n",
       "      <td>Evans, Richard, Bošnjak, Matko and 5 more</td>\n",
       "      <td>October 2021</td>\n",
       "    </tr>\n",
       "    <tr>\n",
       "      <th>2</th>\n",
       "      <td>Law and logic: A review from an argumentation ...</td>\n",
       "      <td>Prakken, Henry, Sartor, Giovanni</td>\n",
       "      <td>October 2015</td>\n",
       "    </tr>\n",
       "    <tr>\n",
       "      <th>3</th>\n",
       "      <td>Creativity and artificial intelligence</td>\n",
       "      <td>Boden, Margaret A.</td>\n",
       "      <td>August 1998</td>\n",
       "    </tr>\n",
       "    <tr>\n",
       "      <th>4</th>\n",
       "      <td>Artificial cognition for social human–robot in...</td>\n",
       "      <td>Lemaignan, Séverin, Warnier, Mathieu and 3 more</td>\n",
       "      <td>June 2017</td>\n",
       "    </tr>\n",
       "    <tr>\n",
       "      <th>5</th>\n",
       "      <td>Explanation in artificial intelligence: Insigh...</td>\n",
       "      <td>Miller, Tim</td>\n",
       "      <td>February 2019</td>\n",
       "    </tr>\n",
       "    <tr>\n",
       "      <th>6</th>\n",
       "      <td>Making sense of sensory input</td>\n",
       "      <td>Evans, Richard, Hernández-Orallo, José and 3 more</td>\n",
       "      <td>April 2021</td>\n",
       "    </tr>\n",
       "    <tr>\n",
       "      <th>7</th>\n",
       "      <td>Conflict-based search for optimal multi-agent ...</td>\n",
       "      <td>Sharon, Guni, Stern, Roni, Felner, Ariel, Stur...</td>\n",
       "      <td>February 2015</td>\n",
       "    </tr>\n",
       "    <tr>\n",
       "      <th>8</th>\n",
       "      <td>Between MDPs and semi-MDPs: A framework for te...</td>\n",
       "      <td>Sutton, Richard S., Precup, Doina, Singh, Sati...</td>\n",
       "      <td>August 1999</td>\n",
       "    </tr>\n",
       "    <tr>\n",
       "      <th>9</th>\n",
       "      <td>The Hanabi challenge: A new frontier for AI re...</td>\n",
       "      <td>Bard, Nolan, Foerster, Jakob N. and 13 more</td>\n",
       "      <td>March 2020</td>\n",
       "    </tr>\n",
       "    <tr>\n",
       "      <th>10</th>\n",
       "      <td>Evaluating XAI: A comparison of rule-based and...</td>\n",
       "      <td>van der Waa, Jasper, Nieuwburg, Elisabeth, Cre...</td>\n",
       "      <td>February 2021</td>\n",
       "    </tr>\n",
       "    <tr>\n",
       "      <th>11</th>\n",
       "      <td>Argumentation in artificial intelligence</td>\n",
       "      <td>Bench-Capon, T.J.M., Dunne, Paul E.</td>\n",
       "      <td>October 2007</td>\n",
       "    </tr>\n",
       "    <tr>\n",
       "      <th>12</th>\n",
       "      <td>Algorithms for computing strategies in two-pla...</td>\n",
       "      <td>Bošanský, Branislav, Lisý, Viliam and 3 more</td>\n",
       "      <td>August 2016</td>\n",
       "    </tr>\n",
       "    <tr>\n",
       "      <th>13</th>\n",
       "      <td>Multiple object tracking: A literature review</td>\n",
       "      <td>Luo, Wenhan, Xing, Junliang and 4 more</td>\n",
       "      <td>April 2021</td>\n",
       "    </tr>\n",
       "    <tr>\n",
       "      <th>14</th>\n",
       "      <td>Selection of relevant features and examples in...</td>\n",
       "      <td>Blum, Avrim L., Langley, Pat</td>\n",
       "      <td>December 1997</td>\n",
       "    </tr>\n",
       "    <tr>\n",
       "      <th>15</th>\n",
       "      <td>A survey of inverse reinforcement learning: Ch...</td>\n",
       "      <td>Arora, Saurabh, Doshi, Prashant</td>\n",
       "      <td>August 2021</td>\n",
       "    </tr>\n",
       "    <tr>\n",
       "      <th>16</th>\n",
       "      <td>Explaining individual predictions when feature...</td>\n",
       "      <td>Aas, Kjersti, Jullum, Martin, Løland, Anders</td>\n",
       "      <td>September 2021</td>\n",
       "    </tr>\n",
       "    <tr>\n",
       "      <th>17</th>\n",
       "      <td>A review of possible effects of cognitive bias...</td>\n",
       "      <td>Kliegr, Tomáš, Bahník, Štěpán, Fürnkranz, Joha...</td>\n",
       "      <td>June 2021</td>\n",
       "    </tr>\n",
       "    <tr>\n",
       "      <th>18</th>\n",
       "      <td>Integrating social power into the decision-mak...</td>\n",
       "      <td>Pereira, Gonçalo, Prada, Rui, Santos, Pedro A.</td>\n",
       "      <td>December 2016</td>\n",
       "    </tr>\n",
       "    <tr>\n",
       "      <th>19</th>\n",
       "      <td>“That's (not) the output I expected!” On the r...</td>\n",
       "      <td>Riveiro, Maria, Thill, Serge</td>\n",
       "      <td>September 2021</td>\n",
       "    </tr>\n",
       "    <tr>\n",
       "      <th>20</th>\n",
       "      <td>Explaining black-box classifiers using post-ho...</td>\n",
       "      <td>Kenny, Eoin M., Ford, Courtney, Quinn, Molly, ...</td>\n",
       "      <td>May 2021</td>\n",
       "    </tr>\n",
       "    <tr>\n",
       "      <th>21</th>\n",
       "      <td>Algorithm runtime prediction: Methods &amp; evalua...</td>\n",
       "      <td>Hutter, Frank, Xu, Lin, Hoos, Holger H., Leyto...</td>\n",
       "      <td>January 2014</td>\n",
       "    </tr>\n",
       "    <tr>\n",
       "      <th>22</th>\n",
       "      <td>Wrappers for feature subset selection</td>\n",
       "      <td>Kohavi, Ron, John, George H.</td>\n",
       "      <td>December 1997</td>\n",
       "    </tr>\n",
       "    <tr>\n",
       "      <th>23</th>\n",
       "      <td>Commonsense visual sensemaking for autonomous ...</td>\n",
       "      <td>Suchan, Jakob, Bhatt, Mehul, Varadarajan, Srik...</td>\n",
       "      <td>October 2021</td>\n",
       "    </tr>\n",
       "    <tr>\n",
       "      <th>24</th>\n",
       "      <td>Quantum computation, quantum theory and AI</td>\n",
       "      <td>Ying, Mingsheng</td>\n",
       "      <td>February 2010</td>\n",
       "    </tr>\n",
       "  </tbody>\n",
       "</table>\n",
       "</div>"
      ],
      "text/plain": [
       "                                                TITLE  \\\n",
       "0                                    Reward is enough   \n",
       "1                           Making sense of raw input   \n",
       "2   Law and logic: A review from an argumentation ...   \n",
       "3              Creativity and artificial intelligence   \n",
       "4   Artificial cognition for social human–robot in...   \n",
       "5   Explanation in artificial intelligence: Insigh...   \n",
       "6                       Making sense of sensory input   \n",
       "7   Conflict-based search for optimal multi-agent ...   \n",
       "8   Between MDPs and semi-MDPs: A framework for te...   \n",
       "9   The Hanabi challenge: A new frontier for AI re...   \n",
       "10  Evaluating XAI: A comparison of rule-based and...   \n",
       "11           Argumentation in artificial intelligence   \n",
       "12  Algorithms for computing strategies in two-pla...   \n",
       "13      Multiple object tracking: A literature review   \n",
       "14  Selection of relevant features and examples in...   \n",
       "15  A survey of inverse reinforcement learning: Ch...   \n",
       "16  Explaining individual predictions when feature...   \n",
       "17  A review of possible effects of cognitive bias...   \n",
       "18  Integrating social power into the decision-mak...   \n",
       "19  “That's (not) the output I expected!” On the r...   \n",
       "20  Explaining black-box classifiers using post-ho...   \n",
       "21  Algorithm runtime prediction: Methods & evalua...   \n",
       "22              Wrappers for feature subset selection   \n",
       "23  Commonsense visual sensemaking for autonomous ...   \n",
       "24         Quantum computation, quantum theory and AI   \n",
       "\n",
       "                                               AUTHOR            DATE  \n",
       "0   Silver, David, Singh, Satinder, Precup, Doina,...    October 2021  \n",
       "1           Evans, Richard, Bošnjak, Matko and 5 more    October 2021  \n",
       "2                   Prakken, Henry, Sartor, Giovanni     October 2015  \n",
       "3                                 Boden, Margaret A.      August 1998  \n",
       "4     Lemaignan, Séverin, Warnier, Mathieu and 3 more       June 2017  \n",
       "5                                        Miller, Tim    February 2019  \n",
       "6   Evans, Richard, Hernández-Orallo, José and 3 more      April 2021  \n",
       "7   Sharon, Guni, Stern, Roni, Felner, Ariel, Stur...   February 2015  \n",
       "8   Sutton, Richard S., Precup, Doina, Singh, Sati...     August 1999  \n",
       "9         Bard, Nolan, Foerster, Jakob N. and 13 more      March 2020  \n",
       "10  van der Waa, Jasper, Nieuwburg, Elisabeth, Cre...   February 2021  \n",
       "11               Bench-Capon, T.J.M., Dunne, Paul E.     October 2007  \n",
       "12       Bošanský, Branislav, Lisý, Viliam and 3 more     August 2016  \n",
       "13             Luo, Wenhan, Xing, Junliang and 4 more      April 2021  \n",
       "14                      Blum, Avrim L., Langley, Pat    December 1997  \n",
       "15                   Arora, Saurabh, Doshi, Prashant      August 2021  \n",
       "16      Aas, Kjersti, Jullum, Martin, Løland, Anders   September 2021  \n",
       "17  Kliegr, Tomáš, Bahník, Štěpán, Fürnkranz, Joha...       June 2021  \n",
       "18    Pereira, Gonçalo, Prada, Rui, Santos, Pedro A.    December 2016  \n",
       "19                      Riveiro, Maria, Thill, Serge   September 2021  \n",
       "20  Kenny, Eoin M., Ford, Courtney, Quinn, Molly, ...        May 2021  \n",
       "21  Hutter, Frank, Xu, Lin, Hoos, Holger H., Leyto...    January 2014  \n",
       "22                      Kohavi, Ron, John, George H.    December 1997  \n",
       "23  Suchan, Jakob, Bhatt, Mehul, Varadarajan, Srik...    October 2021  \n",
       "24                                   Ying, Mingsheng    February 2010  "
      ]
     },
     "execution_count": 74,
     "metadata": {},
     "output_type": "execute_result"
    }
   ],
   "source": [
    "import pandas as pd\n",
    "df=pd.DataFrame({\"TITLE\":page,\"AUTHOR\":aut,\"DATE\":date})     #i don\"t find url links of books\n",
    "df"
   ]
  },
  {
   "cell_type": "raw",
   "id": "1b6b1b1c",
   "metadata": {},
   "source": []
  },
  {
   "cell_type": "markdown",
   "id": "4db5e08c",
   "metadata": {},
   "source": [
    "# Write a python program to scrape cricket rankings from icc-cricket.com."
   ]
  },
  {
   "cell_type": "code",
   "execution_count": 75,
   "id": "45fc9a2e",
   "metadata": {},
   "outputs": [
    {
     "data": {
      "text/plain": [
       "[    Pos           Team  T  Matches  M  Points  P  Rating  R\n",
       " 0     1    Australia  AUS          29       4837        167\n",
       " 1     2      England  ENG          33       4046        123\n",
       " 2     3  South Africa  SA          35       4157        119\n",
       " 3     4        India  IND          32       3219        101\n",
       " 4     5   New Zealand  NZ          31       3019         97\n",
       " 5     6   West Indies  WI          30       2768         92\n",
       " 6     7   Bangladesh  BAN          12        930         78\n",
       " 7     8     Pakistan  PAK          30       1962         65\n",
       " 8     9     Sri Lanka  SL          11        495         45\n",
       " 9    10      Ireland  IRE           8        351         44\n",
       " 10   11     Zimbabwe  ZIM           8          0          0]"
      ]
     },
     "execution_count": 75,
     "metadata": {},
     "output_type": "execute_result"
    }
   ],
   "source": [
    "import pandas as pd\n",
    "url=(\"https://www.icc-cricket.com/rankings/womens/team-rankings/odi\")\n",
    "df=pd.read_html(url)\n",
    "df"
   ]
  },
  {
   "cell_type": "code",
   "execution_count": 76,
   "id": "2c922442",
   "metadata": {},
   "outputs": [
    {
     "data": {
      "text/html": [
       "<div>\n",
       "<style scoped>\n",
       "    .dataframe tbody tr th:only-of-type {\n",
       "        vertical-align: middle;\n",
       "    }\n",
       "\n",
       "    .dataframe tbody tr th {\n",
       "        vertical-align: top;\n",
       "    }\n",
       "\n",
       "    .dataframe thead th {\n",
       "        text-align: right;\n",
       "    }\n",
       "</style>\n",
       "<table border=\"1\" class=\"dataframe\">\n",
       "  <thead>\n",
       "    <tr style=\"text-align: right;\">\n",
       "      <th></th>\n",
       "      <th>Pos</th>\n",
       "      <th>Team  T</th>\n",
       "      <th>Matches  M</th>\n",
       "      <th>Points  P</th>\n",
       "      <th>Rating  R</th>\n",
       "    </tr>\n",
       "  </thead>\n",
       "  <tbody>\n",
       "    <tr>\n",
       "      <th>0</th>\n",
       "      <td>1</td>\n",
       "      <td>Australia  AUS</td>\n",
       "      <td>29</td>\n",
       "      <td>4837</td>\n",
       "      <td>167</td>\n",
       "    </tr>\n",
       "    <tr>\n",
       "      <th>1</th>\n",
       "      <td>2</td>\n",
       "      <td>England  ENG</td>\n",
       "      <td>33</td>\n",
       "      <td>4046</td>\n",
       "      <td>123</td>\n",
       "    </tr>\n",
       "    <tr>\n",
       "      <th>2</th>\n",
       "      <td>3</td>\n",
       "      <td>South Africa  SA</td>\n",
       "      <td>35</td>\n",
       "      <td>4157</td>\n",
       "      <td>119</td>\n",
       "    </tr>\n",
       "    <tr>\n",
       "      <th>3</th>\n",
       "      <td>4</td>\n",
       "      <td>India  IND</td>\n",
       "      <td>32</td>\n",
       "      <td>3219</td>\n",
       "      <td>101</td>\n",
       "    </tr>\n",
       "    <tr>\n",
       "      <th>4</th>\n",
       "      <td>5</td>\n",
       "      <td>New Zealand  NZ</td>\n",
       "      <td>31</td>\n",
       "      <td>3019</td>\n",
       "      <td>97</td>\n",
       "    </tr>\n",
       "    <tr>\n",
       "      <th>5</th>\n",
       "      <td>6</td>\n",
       "      <td>West Indies  WI</td>\n",
       "      <td>30</td>\n",
       "      <td>2768</td>\n",
       "      <td>92</td>\n",
       "    </tr>\n",
       "    <tr>\n",
       "      <th>6</th>\n",
       "      <td>7</td>\n",
       "      <td>Bangladesh  BAN</td>\n",
       "      <td>12</td>\n",
       "      <td>930</td>\n",
       "      <td>78</td>\n",
       "    </tr>\n",
       "    <tr>\n",
       "      <th>7</th>\n",
       "      <td>8</td>\n",
       "      <td>Pakistan  PAK</td>\n",
       "      <td>30</td>\n",
       "      <td>1962</td>\n",
       "      <td>65</td>\n",
       "    </tr>\n",
       "    <tr>\n",
       "      <th>8</th>\n",
       "      <td>9</td>\n",
       "      <td>Sri Lanka  SL</td>\n",
       "      <td>11</td>\n",
       "      <td>495</td>\n",
       "      <td>45</td>\n",
       "    </tr>\n",
       "    <tr>\n",
       "      <th>9</th>\n",
       "      <td>10</td>\n",
       "      <td>Ireland  IRE</td>\n",
       "      <td>8</td>\n",
       "      <td>351</td>\n",
       "      <td>44</td>\n",
       "    </tr>\n",
       "    <tr>\n",
       "      <th>10</th>\n",
       "      <td>11</td>\n",
       "      <td>Zimbabwe  ZIM</td>\n",
       "      <td>8</td>\n",
       "      <td>0</td>\n",
       "      <td>0</td>\n",
       "    </tr>\n",
       "  </tbody>\n",
       "</table>\n",
       "</div>"
      ],
      "text/plain": [
       "    Pos           Team  T  Matches  M  Points  P  Rating  R\n",
       "0     1    Australia  AUS          29       4837        167\n",
       "1     2      England  ENG          33       4046        123\n",
       "2     3  South Africa  SA          35       4157        119\n",
       "3     4        India  IND          32       3219        101\n",
       "4     5   New Zealand  NZ          31       3019         97\n",
       "5     6   West Indies  WI          30       2768         92\n",
       "6     7   Bangladesh  BAN          12        930         78\n",
       "7     8     Pakistan  PAK          30       1962         65\n",
       "8     9     Sri Lanka  SL          11        495         45\n",
       "9    10      Ireland  IRE           8        351         44\n",
       "10   11     Zimbabwe  ZIM           8          0          0"
      ]
     },
     "execution_count": 76,
     "metadata": {},
     "output_type": "execute_result"
    }
   ],
   "source": [
    "df=df[0]\n",
    "df.to_html('ICC.html')\n",
    "df"
   ]
  },
  {
   "cell_type": "code",
   "execution_count": 77,
   "id": "72cb1f6d",
   "metadata": {},
   "outputs": [],
   "source": [
    "ds=pd.DataFrame(df)\n",
    "team=ds.set_index('Pos')\n",
    "TEAM=team.head(10)"
   ]
  },
  {
   "cell_type": "code",
   "execution_count": 78,
   "id": "9f748f33",
   "metadata": {},
   "outputs": [
    {
     "data": {
      "text/html": [
       "<div>\n",
       "<style scoped>\n",
       "    .dataframe tbody tr th:only-of-type {\n",
       "        vertical-align: middle;\n",
       "    }\n",
       "\n",
       "    .dataframe tbody tr th {\n",
       "        vertical-align: top;\n",
       "    }\n",
       "\n",
       "    .dataframe thead th {\n",
       "        text-align: right;\n",
       "    }\n",
       "</style>\n",
       "<table border=\"1\" class=\"dataframe\">\n",
       "  <thead>\n",
       "    <tr style=\"text-align: right;\">\n",
       "      <th></th>\n",
       "      <th>Team  T</th>\n",
       "      <th>Matches  M</th>\n",
       "      <th>Points  P</th>\n",
       "      <th>Rating  R</th>\n",
       "    </tr>\n",
       "    <tr>\n",
       "      <th>Pos</th>\n",
       "      <th></th>\n",
       "      <th></th>\n",
       "      <th></th>\n",
       "      <th></th>\n",
       "    </tr>\n",
       "  </thead>\n",
       "  <tbody>\n",
       "    <tr>\n",
       "      <th>1</th>\n",
       "      <td>Australia  AUS</td>\n",
       "      <td>29</td>\n",
       "      <td>4837</td>\n",
       "      <td>167</td>\n",
       "    </tr>\n",
       "    <tr>\n",
       "      <th>2</th>\n",
       "      <td>England  ENG</td>\n",
       "      <td>33</td>\n",
       "      <td>4046</td>\n",
       "      <td>123</td>\n",
       "    </tr>\n",
       "    <tr>\n",
       "      <th>3</th>\n",
       "      <td>South Africa  SA</td>\n",
       "      <td>35</td>\n",
       "      <td>4157</td>\n",
       "      <td>119</td>\n",
       "    </tr>\n",
       "    <tr>\n",
       "      <th>4</th>\n",
       "      <td>India  IND</td>\n",
       "      <td>32</td>\n",
       "      <td>3219</td>\n",
       "      <td>101</td>\n",
       "    </tr>\n",
       "    <tr>\n",
       "      <th>5</th>\n",
       "      <td>New Zealand  NZ</td>\n",
       "      <td>31</td>\n",
       "      <td>3019</td>\n",
       "      <td>97</td>\n",
       "    </tr>\n",
       "    <tr>\n",
       "      <th>6</th>\n",
       "      <td>West Indies  WI</td>\n",
       "      <td>30</td>\n",
       "      <td>2768</td>\n",
       "      <td>92</td>\n",
       "    </tr>\n",
       "    <tr>\n",
       "      <th>7</th>\n",
       "      <td>Bangladesh  BAN</td>\n",
       "      <td>12</td>\n",
       "      <td>930</td>\n",
       "      <td>78</td>\n",
       "    </tr>\n",
       "    <tr>\n",
       "      <th>8</th>\n",
       "      <td>Pakistan  PAK</td>\n",
       "      <td>30</td>\n",
       "      <td>1962</td>\n",
       "      <td>65</td>\n",
       "    </tr>\n",
       "    <tr>\n",
       "      <th>9</th>\n",
       "      <td>Sri Lanka  SL</td>\n",
       "      <td>11</td>\n",
       "      <td>495</td>\n",
       "      <td>45</td>\n",
       "    </tr>\n",
       "    <tr>\n",
       "      <th>10</th>\n",
       "      <td>Ireland  IRE</td>\n",
       "      <td>8</td>\n",
       "      <td>351</td>\n",
       "      <td>44</td>\n",
       "    </tr>\n",
       "  </tbody>\n",
       "</table>\n",
       "</div>"
      ],
      "text/plain": [
       "              Team  T  Matches  M  Points  P  Rating  R\n",
       "Pos                                                    \n",
       "1      Australia  AUS          29       4837        167\n",
       "2        England  ENG          33       4046        123\n",
       "3    South Africa  SA          35       4157        119\n",
       "4          India  IND          32       3219        101\n",
       "5     New Zealand  NZ          31       3019         97\n",
       "6     West Indies  WI          30       2768         92\n",
       "7     Bangladesh  BAN          12        930         78\n",
       "8       Pakistan  PAK          30       1962         65\n",
       "9       Sri Lanka  SL          11        495         45\n",
       "10       Ireland  IRE           8        351         44"
      ]
     },
     "execution_count": 78,
     "metadata": {},
     "output_type": "execute_result"
    }
   ],
   "source": [
    "TEAM"
   ]
  },
  {
   "cell_type": "markdown",
   "id": "0095ab59",
   "metadata": {},
   "source": [
    "Top 10 women’s ODI Batting players along with the records of their team and rating.\n"
   ]
  },
  {
   "cell_type": "code",
   "execution_count": 79,
   "id": "ac6e0e93",
   "metadata": {},
   "outputs": [],
   "source": [
    "url=\"https://www.icc-cricket.com/rankings/womens/player-rankings/odi\""
   ]
  },
  {
   "cell_type": "code",
   "execution_count": 80,
   "id": "fffa529b",
   "metadata": {},
   "outputs": [],
   "source": [
    "import pandas as pd\n",
    "df=pd.read_html(\"https://www.icc-cricket.com/rankings/womens/player-rankings/odi\")\n",
    "df=df[0]"
   ]
  },
  {
   "cell_type": "code",
   "execution_count": 81,
   "id": "d95c5e6a",
   "metadata": {},
   "outputs": [
    {
     "data": {
      "text/html": [
       "<div>\n",
       "<style scoped>\n",
       "    .dataframe tbody tr th:only-of-type {\n",
       "        vertical-align: middle;\n",
       "    }\n",
       "\n",
       "    .dataframe tbody tr th {\n",
       "        vertical-align: top;\n",
       "    }\n",
       "\n",
       "    .dataframe thead th {\n",
       "        text-align: right;\n",
       "    }\n",
       "</style>\n",
       "<table border=\"1\" class=\"dataframe\">\n",
       "  <thead>\n",
       "    <tr style=\"text-align: right;\">\n",
       "      <th></th>\n",
       "      <th>Pos</th>\n",
       "      <th>Player</th>\n",
       "      <th>Team</th>\n",
       "      <th>Rating</th>\n",
       "    </tr>\n",
       "  </thead>\n",
       "  <tbody>\n",
       "    <tr>\n",
       "      <th>0</th>\n",
       "      <td>2  (1)  This player has moved up in the rankin...</td>\n",
       "      <td>Beth Mooney</td>\n",
       "      <td>AUS</td>\n",
       "      <td>749</td>\n",
       "    </tr>\n",
       "    <tr>\n",
       "      <th>1</th>\n",
       "      <td>3  (1)  This player has moved down in the rank...</td>\n",
       "      <td>Natalie Sciver</td>\n",
       "      <td>ENG</td>\n",
       "      <td>747</td>\n",
       "    </tr>\n",
       "    <tr>\n",
       "      <th>2</th>\n",
       "      <td>4  (0)</td>\n",
       "      <td>Laura Wolvaardt</td>\n",
       "      <td>SA</td>\n",
       "      <td>732</td>\n",
       "    </tr>\n",
       "    <tr>\n",
       "      <th>3</th>\n",
       "      <td>5  (0)</td>\n",
       "      <td>Meg Lanning</td>\n",
       "      <td>AUS</td>\n",
       "      <td>710</td>\n",
       "    </tr>\n",
       "    <tr>\n",
       "      <th>4</th>\n",
       "      <td>6  (0)</td>\n",
       "      <td>Rachael Haynes</td>\n",
       "      <td>AUS</td>\n",
       "      <td>701</td>\n",
       "    </tr>\n",
       "    <tr>\n",
       "      <th>5</th>\n",
       "      <td>7  (0)</td>\n",
       "      <td>Amy Satterthwaite</td>\n",
       "      <td>NZ</td>\n",
       "      <td>681</td>\n",
       "    </tr>\n",
       "    <tr>\n",
       "      <th>6</th>\n",
       "      <td>8  (2)  This player has moved up in the rankin...</td>\n",
       "      <td>Tammy Beaumont</td>\n",
       "      <td>ENG</td>\n",
       "      <td>667</td>\n",
       "    </tr>\n",
       "    <tr>\n",
       "      <th>7</th>\n",
       "      <td>9  (1)  This player has moved down in the rank...</td>\n",
       "      <td>Chamari Athapaththu</td>\n",
       "      <td>SL</td>\n",
       "      <td>655</td>\n",
       "    </tr>\n",
       "    <tr>\n",
       "      <th>8</th>\n",
       "      <td>10  (1)  This player has moved down in the ran...</td>\n",
       "      <td>Smriti Mandhana</td>\n",
       "      <td>IND</td>\n",
       "      <td>649</td>\n",
       "    </tr>\n",
       "  </tbody>\n",
       "</table>\n",
       "</div>"
      ],
      "text/plain": [
       "                                                 Pos               Player  \\\n",
       "0  2  (1)  This player has moved up in the rankin...          Beth Mooney   \n",
       "1  3  (1)  This player has moved down in the rank...       Natalie Sciver   \n",
       "2                                             4  (0)      Laura Wolvaardt   \n",
       "3                                             5  (0)          Meg Lanning   \n",
       "4                                             6  (0)       Rachael Haynes   \n",
       "5                                             7  (0)    Amy Satterthwaite   \n",
       "6  8  (2)  This player has moved up in the rankin...       Tammy Beaumont   \n",
       "7  9  (1)  This player has moved down in the rank...  Chamari Athapaththu   \n",
       "8  10  (1)  This player has moved down in the ran...      Smriti Mandhana   \n",
       "\n",
       "  Team  Rating  \n",
       "0  AUS     749  \n",
       "1  ENG     747  \n",
       "2   SA     732  \n",
       "3  AUS     710  \n",
       "4  AUS     701  \n",
       "5   NZ     681  \n",
       "6  ENG     667  \n",
       "7   SL     655  \n",
       "8  IND     649  "
      ]
     },
     "execution_count": 81,
     "metadata": {},
     "output_type": "execute_result"
    }
   ],
   "source": [
    "df"
   ]
  },
  {
   "cell_type": "code",
   "execution_count": 82,
   "id": "2fcfc6c7",
   "metadata": {},
   "outputs": [],
   "source": [
    "ds=pd.DataFrame(df)\n",
    "PLAYER=ds.set_index('Player')"
   ]
  },
  {
   "cell_type": "code",
   "execution_count": 83,
   "id": "ad7cbc84",
   "metadata": {},
   "outputs": [
    {
     "data": {
      "text/html": [
       "<div>\n",
       "<style scoped>\n",
       "    .dataframe tbody tr th:only-of-type {\n",
       "        vertical-align: middle;\n",
       "    }\n",
       "\n",
       "    .dataframe tbody tr th {\n",
       "        vertical-align: top;\n",
       "    }\n",
       "\n",
       "    .dataframe thead th {\n",
       "        text-align: right;\n",
       "    }\n",
       "</style>\n",
       "<table border=\"1\" class=\"dataframe\">\n",
       "  <thead>\n",
       "    <tr style=\"text-align: right;\">\n",
       "      <th></th>\n",
       "      <th>Team</th>\n",
       "      <th>Rating</th>\n",
       "    </tr>\n",
       "    <tr>\n",
       "      <th>Player</th>\n",
       "      <th></th>\n",
       "      <th></th>\n",
       "    </tr>\n",
       "  </thead>\n",
       "  <tbody>\n",
       "    <tr>\n",
       "      <th>Beth Mooney</th>\n",
       "      <td>AUS</td>\n",
       "      <td>749</td>\n",
       "    </tr>\n",
       "    <tr>\n",
       "      <th>Natalie Sciver</th>\n",
       "      <td>ENG</td>\n",
       "      <td>747</td>\n",
       "    </tr>\n",
       "    <tr>\n",
       "      <th>Laura Wolvaardt</th>\n",
       "      <td>SA</td>\n",
       "      <td>732</td>\n",
       "    </tr>\n",
       "    <tr>\n",
       "      <th>Meg Lanning</th>\n",
       "      <td>AUS</td>\n",
       "      <td>710</td>\n",
       "    </tr>\n",
       "    <tr>\n",
       "      <th>Rachael Haynes</th>\n",
       "      <td>AUS</td>\n",
       "      <td>701</td>\n",
       "    </tr>\n",
       "    <tr>\n",
       "      <th>Amy Satterthwaite</th>\n",
       "      <td>NZ</td>\n",
       "      <td>681</td>\n",
       "    </tr>\n",
       "    <tr>\n",
       "      <th>Tammy Beaumont</th>\n",
       "      <td>ENG</td>\n",
       "      <td>667</td>\n",
       "    </tr>\n",
       "    <tr>\n",
       "      <th>Chamari Athapaththu</th>\n",
       "      <td>SL</td>\n",
       "      <td>655</td>\n",
       "    </tr>\n",
       "    <tr>\n",
       "      <th>Smriti Mandhana</th>\n",
       "      <td>IND</td>\n",
       "      <td>649</td>\n",
       "    </tr>\n",
       "  </tbody>\n",
       "</table>\n",
       "</div>"
      ],
      "text/plain": [
       "                    Team  Rating\n",
       "Player                          \n",
       "Beth Mooney          AUS     749\n",
       "Natalie Sciver       ENG     747\n",
       "Laura Wolvaardt       SA     732\n",
       "Meg Lanning          AUS     710\n",
       "Rachael Haynes       AUS     701\n",
       "Amy Satterthwaite     NZ     681\n",
       "Tammy Beaumont       ENG     667\n",
       "Chamari Athapaththu   SL     655\n",
       "Smriti Mandhana      IND     649"
      ]
     },
     "execution_count": 83,
     "metadata": {},
     "output_type": "execute_result"
    }
   ],
   "source": [
    "PLAYER.drop('Pos',axis=1)"
   ]
  },
  {
   "cell_type": "markdown",
   "id": "2c8e4999",
   "metadata": {},
   "source": [
    "Top 10 women’s ODI all-rounder along with the records of their team and rating."
   ]
  },
  {
   "cell_type": "code",
   "execution_count": 84,
   "id": "6cc95083",
   "metadata": {},
   "outputs": [
    {
     "data": {
      "text/html": [
       "<div>\n",
       "<style scoped>\n",
       "    .dataframe tbody tr th:only-of-type {\n",
       "        vertical-align: middle;\n",
       "    }\n",
       "\n",
       "    .dataframe tbody tr th {\n",
       "        vertical-align: top;\n",
       "    }\n",
       "\n",
       "    .dataframe thead th {\n",
       "        text-align: right;\n",
       "    }\n",
       "</style>\n",
       "<table border=\"1\" class=\"dataframe\">\n",
       "  <thead>\n",
       "    <tr style=\"text-align: right;\">\n",
       "      <th></th>\n",
       "      <th>Player</th>\n",
       "      <th>Team</th>\n",
       "      <th>Rating</th>\n",
       "      <th>Career Best Rating</th>\n",
       "    </tr>\n",
       "  </thead>\n",
       "  <tbody>\n",
       "    <tr>\n",
       "      <th>0</th>\n",
       "      <td>Natalie Sciver</td>\n",
       "      <td>ENG</td>\n",
       "      <td>379</td>\n",
       "      <td>395 v South Africa, 11/07/2022</td>\n",
       "    </tr>\n",
       "    <tr>\n",
       "      <th>1</th>\n",
       "      <td>Ellyse Perry</td>\n",
       "      <td>AUS</td>\n",
       "      <td>374</td>\n",
       "      <td>548 v West Indies, 11/09/2019</td>\n",
       "    </tr>\n",
       "    <tr>\n",
       "      <th>2</th>\n",
       "      <td>Marizanne Kapp</td>\n",
       "      <td>SA</td>\n",
       "      <td>349</td>\n",
       "      <td>419 v West Indies, 10/09/2021</td>\n",
       "    </tr>\n",
       "    <tr>\n",
       "      <th>3</th>\n",
       "      <td>Hayley Matthews</td>\n",
       "      <td>WI</td>\n",
       "      <td>339</td>\n",
       "      <td>365 v India, 12/03/2022</td>\n",
       "    </tr>\n",
       "    <tr>\n",
       "      <th>4</th>\n",
       "      <td>Amelia Kerr</td>\n",
       "      <td>NZ</td>\n",
       "      <td>336</td>\n",
       "      <td>339 v South Africa, 17/03/2022</td>\n",
       "    </tr>\n",
       "    <tr>\n",
       "      <th>5</th>\n",
       "      <td>Ashleigh Gardner</td>\n",
       "      <td>AUS</td>\n",
       "      <td>270</td>\n",
       "      <td>279 v West Indies, 30/03/2022</td>\n",
       "    </tr>\n",
       "    <tr>\n",
       "      <th>6</th>\n",
       "      <td>Deepti Sharma</td>\n",
       "      <td>IND</td>\n",
       "      <td>252</td>\n",
       "      <td>397 v South Africa, 09/10/2019</td>\n",
       "    </tr>\n",
       "    <tr>\n",
       "      <th>7</th>\n",
       "      <td>Jess Jonassen</td>\n",
       "      <td>AUS</td>\n",
       "      <td>246</td>\n",
       "      <td>308 v West Indies, 11/09/2019</td>\n",
       "    </tr>\n",
       "    <tr>\n",
       "      <th>8</th>\n",
       "      <td>Katherine Brunt</td>\n",
       "      <td>ENG</td>\n",
       "      <td>220</td>\n",
       "      <td>296 v Australia, 03/02/2022</td>\n",
       "    </tr>\n",
       "    <tr>\n",
       "      <th>9</th>\n",
       "      <td>Stafanie Taylor</td>\n",
       "      <td>WI</td>\n",
       "      <td>207</td>\n",
       "      <td>559 v New Zealand, 10/10/2013</td>\n",
       "    </tr>\n",
       "    <tr>\n",
       "      <th>10</th>\n",
       "      <td>Jhulan Goswami</td>\n",
       "      <td>IND</td>\n",
       "      <td>205</td>\n",
       "      <td>308 v Australia, 02/02/2016</td>\n",
       "    </tr>\n",
       "    <tr>\n",
       "      <th>11</th>\n",
       "      <td>Sophie Ecclestone</td>\n",
       "      <td>ENG</td>\n",
       "      <td>202</td>\n",
       "      <td>217 v South Africa, 31/03/2022</td>\n",
       "    </tr>\n",
       "    <tr>\n",
       "      <th>12</th>\n",
       "      <td>Sophie Devine</td>\n",
       "      <td>NZ</td>\n",
       "      <td>202</td>\n",
       "      <td>305 v Australia, 05/10/2020</td>\n",
       "    </tr>\n",
       "    <tr>\n",
       "      <th>13</th>\n",
       "      <td>Rumana Ahmed</td>\n",
       "      <td>BAN</td>\n",
       "      <td>201</td>\n",
       "      <td>198 v South Africa, 05/03/2022</td>\n",
       "    </tr>\n",
       "    <tr>\n",
       "      <th>14</th>\n",
       "      <td>Nida Dar</td>\n",
       "      <td>PAK</td>\n",
       "      <td>200</td>\n",
       "      <td>206 v Sri Lanka, 03/06/2022</td>\n",
       "    </tr>\n",
       "    <tr>\n",
       "      <th>15</th>\n",
       "      <td>Chloe-Lesleigh Tryon</td>\n",
       "      <td>SA</td>\n",
       "      <td>197</td>\n",
       "      <td>197 v England, 18/07/2022</td>\n",
       "    </tr>\n",
       "    <tr>\n",
       "      <th>16</th>\n",
       "      <td>Salma Khatun</td>\n",
       "      <td>BAN</td>\n",
       "      <td>178</td>\n",
       "      <td>170 v Australia, 25/03/2022</td>\n",
       "    </tr>\n",
       "    <tr>\n",
       "      <th>17</th>\n",
       "      <td>Chamari Athapaththu</td>\n",
       "      <td>SL</td>\n",
       "      <td>178</td>\n",
       "      <td>187 v South Africa, 17/02/2019</td>\n",
       "    </tr>\n",
       "    <tr>\n",
       "      <th>18</th>\n",
       "      <td>Sune Luus</td>\n",
       "      <td>SA</td>\n",
       "      <td>171</td>\n",
       "      <td>223 v Ireland, 17/06/2022</td>\n",
       "    </tr>\n",
       "    <tr>\n",
       "      <th>19</th>\n",
       "      <td>Harmanpreet Kaur</td>\n",
       "      <td>IND</td>\n",
       "      <td>158</td>\n",
       "      <td>174 v South Africa, 14/03/2021</td>\n",
       "    </tr>\n",
       "  </tbody>\n",
       "</table>\n",
       "</div>"
      ],
      "text/plain": [
       "                  Player Team  Rating              Career Best Rating\n",
       "0         Natalie Sciver  ENG     379  395 v South Africa, 11/07/2022\n",
       "1           Ellyse Perry  AUS     374   548 v West Indies, 11/09/2019\n",
       "2         Marizanne Kapp   SA     349   419 v West Indies, 10/09/2021\n",
       "3        Hayley Matthews   WI     339         365 v India, 12/03/2022\n",
       "4            Amelia Kerr   NZ     336  339 v South Africa, 17/03/2022\n",
       "5       Ashleigh Gardner  AUS     270   279 v West Indies, 30/03/2022\n",
       "6          Deepti Sharma  IND     252  397 v South Africa, 09/10/2019\n",
       "7          Jess Jonassen  AUS     246   308 v West Indies, 11/09/2019\n",
       "8        Katherine Brunt  ENG     220     296 v Australia, 03/02/2022\n",
       "9        Stafanie Taylor   WI     207   559 v New Zealand, 10/10/2013\n",
       "10        Jhulan Goswami  IND     205     308 v Australia, 02/02/2016\n",
       "11     Sophie Ecclestone  ENG     202  217 v South Africa, 31/03/2022\n",
       "12         Sophie Devine   NZ     202     305 v Australia, 05/10/2020\n",
       "13          Rumana Ahmed  BAN     201  198 v South Africa, 05/03/2022\n",
       "14              Nida Dar  PAK     200     206 v Sri Lanka, 03/06/2022\n",
       "15  Chloe-Lesleigh Tryon   SA     197       197 v England, 18/07/2022\n",
       "16          Salma Khatun  BAN     178     170 v Australia, 25/03/2022\n",
       "17   Chamari Athapaththu   SL     178  187 v South Africa, 17/02/2019\n",
       "18             Sune Luus   SA     171       223 v Ireland, 17/06/2022\n",
       "19      Harmanpreet Kaur  IND     158  174 v South Africa, 14/03/2021"
      ]
     },
     "execution_count": 84,
     "metadata": {},
     "output_type": "execute_result"
    }
   ],
   "source": [
    "url=\"https://www.icc-cricket.com/rankings/womens/player-rankings/odi/all-rounder\"\n",
    "import pandas as pd\n",
    "df=pd.read_html(url)\n",
    "df=df[0]\n",
    "ds=pd.DataFrame(df)\n",
    "ds.head(10)\n",
    "ds.drop(\"Pos\",axis=1)"
   ]
  },
  {
   "cell_type": "code",
   "execution_count": null,
   "id": "0de0083f",
   "metadata": {},
   "outputs": [],
   "source": []
  },
  {
   "cell_type": "markdown",
   "id": "a1560378",
   "metadata": {},
   "source": [
    "# Write a python program to scrape cricket rankings from icc-cricket.com"
   ]
  },
  {
   "cell_type": "markdown",
   "id": "9535cc42",
   "metadata": {},
   "source": [
    "Top 10 ODI teams in men’s cricket along with the records for matches, points and rating."
   ]
  },
  {
   "cell_type": "code",
   "execution_count": 85,
   "id": "0c9b7467",
   "metadata": {},
   "outputs": [
    {
     "data": {
      "text/html": [
       "<div>\n",
       "<style scoped>\n",
       "    .dataframe tbody tr th:only-of-type {\n",
       "        vertical-align: middle;\n",
       "    }\n",
       "\n",
       "    .dataframe tbody tr th {\n",
       "        vertical-align: top;\n",
       "    }\n",
       "\n",
       "    .dataframe thead th {\n",
       "        text-align: right;\n",
       "    }\n",
       "</style>\n",
       "<table border=\"1\" class=\"dataframe\">\n",
       "  <thead>\n",
       "    <tr style=\"text-align: right;\">\n",
       "      <th></th>\n",
       "      <th>Team  T</th>\n",
       "      <th>Matches  M</th>\n",
       "      <th>Points  P</th>\n",
       "      <th>Rating  R</th>\n",
       "    </tr>\n",
       "    <tr>\n",
       "      <th>Pos</th>\n",
       "      <th></th>\n",
       "      <th></th>\n",
       "      <th></th>\n",
       "      <th></th>\n",
       "    </tr>\n",
       "  </thead>\n",
       "  <tbody>\n",
       "    <tr>\n",
       "      <th>1</th>\n",
       "      <td>New Zealand  NZ</td>\n",
       "      <td>16</td>\n",
       "      <td>2051</td>\n",
       "      <td>128</td>\n",
       "    </tr>\n",
       "    <tr>\n",
       "      <th>2</th>\n",
       "      <td>England  ENG</td>\n",
       "      <td>27</td>\n",
       "      <td>3226</td>\n",
       "      <td>119</td>\n",
       "    </tr>\n",
       "    <tr>\n",
       "      <th>3</th>\n",
       "      <td>India  IND</td>\n",
       "      <td>28</td>\n",
       "      <td>3085</td>\n",
       "      <td>110</td>\n",
       "    </tr>\n",
       "    <tr>\n",
       "      <th>4</th>\n",
       "      <td>Pakistan  PAK</td>\n",
       "      <td>19</td>\n",
       "      <td>2005</td>\n",
       "      <td>106</td>\n",
       "    </tr>\n",
       "    <tr>\n",
       "      <th>5</th>\n",
       "      <td>Australia  AUS</td>\n",
       "      <td>23</td>\n",
       "      <td>2325</td>\n",
       "      <td>101</td>\n",
       "    </tr>\n",
       "    <tr>\n",
       "      <th>6</th>\n",
       "      <td>South Africa  SA</td>\n",
       "      <td>21</td>\n",
       "      <td>2111</td>\n",
       "      <td>101</td>\n",
       "    </tr>\n",
       "    <tr>\n",
       "      <th>7</th>\n",
       "      <td>Bangladesh  BAN</td>\n",
       "      <td>27</td>\n",
       "      <td>2639</td>\n",
       "      <td>98</td>\n",
       "    </tr>\n",
       "    <tr>\n",
       "      <th>8</th>\n",
       "      <td>Sri Lanka  SL</td>\n",
       "      <td>29</td>\n",
       "      <td>2658</td>\n",
       "      <td>92</td>\n",
       "    </tr>\n",
       "    <tr>\n",
       "      <th>9</th>\n",
       "      <td>West Indies  WI</td>\n",
       "      <td>38</td>\n",
       "      <td>2621</td>\n",
       "      <td>69</td>\n",
       "    </tr>\n",
       "    <tr>\n",
       "      <th>10</th>\n",
       "      <td>Afghanistan  AFG</td>\n",
       "      <td>18</td>\n",
       "      <td>1238</td>\n",
       "      <td>69</td>\n",
       "    </tr>\n",
       "  </tbody>\n",
       "</table>\n",
       "</div>"
      ],
      "text/plain": [
       "              Team  T  Matches  M  Points  P  Rating  R\n",
       "Pos                                                    \n",
       "1     New Zealand  NZ          16       2051        128\n",
       "2        England  ENG          27       3226        119\n",
       "3          India  IND          28       3085        110\n",
       "4       Pakistan  PAK          19       2005        106\n",
       "5      Australia  AUS          23       2325        101\n",
       "6    South Africa  SA          21       2111        101\n",
       "7     Bangladesh  BAN          27       2639         98\n",
       "8       Sri Lanka  SL          29       2658         92\n",
       "9     West Indies  WI          38       2621         69\n",
       "10   Afghanistan  AFG          18       1238         69"
      ]
     },
     "execution_count": 85,
     "metadata": {},
     "output_type": "execute_result"
    }
   ],
   "source": [
    "url='https://www.icc-cricket.com/rankings/mens/team-rankings/odi'\n",
    "import pandas as pd\n",
    "df=pd.read_html(url)\n",
    "df=df[0]\n",
    "ds=pd.DataFrame(df)\n",
    "TEAM=ds.head(10)\n",
    "TEAM.set_index('Pos')"
   ]
  },
  {
   "cell_type": "markdown",
   "id": "b1ca9a75",
   "metadata": {},
   "source": [
    "Top 10 ODI Batsmen along with the records of their team and rating"
   ]
  },
  {
   "cell_type": "code",
   "execution_count": 86,
   "id": "796f1b4b",
   "metadata": {},
   "outputs": [
    {
     "data": {
      "text/html": [
       "<div>\n",
       "<style scoped>\n",
       "    .dataframe tbody tr th:only-of-type {\n",
       "        vertical-align: middle;\n",
       "    }\n",
       "\n",
       "    .dataframe tbody tr th {\n",
       "        vertical-align: top;\n",
       "    }\n",
       "\n",
       "    .dataframe thead th {\n",
       "        text-align: right;\n",
       "    }\n",
       "</style>\n",
       "<table border=\"1\" class=\"dataframe\">\n",
       "  <thead>\n",
       "    <tr style=\"text-align: right;\">\n",
       "      <th></th>\n",
       "      <th>Team</th>\n",
       "      <th>Rating</th>\n",
       "    </tr>\n",
       "    <tr>\n",
       "      <th>Player</th>\n",
       "      <th></th>\n",
       "      <th></th>\n",
       "    </tr>\n",
       "  </thead>\n",
       "  <tbody>\n",
       "    <tr>\n",
       "      <th>Babar Azam</th>\n",
       "      <td>PAK</td>\n",
       "      <td>892</td>\n",
       "    </tr>\n",
       "    <tr>\n",
       "      <th>Imam-ul-Haq</th>\n",
       "      <td>PAK</td>\n",
       "      <td>815</td>\n",
       "    </tr>\n",
       "    <tr>\n",
       "      <th>Rassie van der Dussen</th>\n",
       "      <td>SA</td>\n",
       "      <td>789</td>\n",
       "    </tr>\n",
       "    <tr>\n",
       "      <th>Quinton de Kock</th>\n",
       "      <td>SA</td>\n",
       "      <td>784</td>\n",
       "    </tr>\n",
       "    <tr>\n",
       "      <th>Virat Kohli</th>\n",
       "      <td>IND</td>\n",
       "      <td>774</td>\n",
       "    </tr>\n",
       "    <tr>\n",
       "      <th>Rohit Sharma</th>\n",
       "      <td>IND</td>\n",
       "      <td>770</td>\n",
       "    </tr>\n",
       "    <tr>\n",
       "      <th>Ross Taylor</th>\n",
       "      <td>NZ</td>\n",
       "      <td>752</td>\n",
       "    </tr>\n",
       "    <tr>\n",
       "      <th>David Warner</th>\n",
       "      <td>AUS</td>\n",
       "      <td>737</td>\n",
       "    </tr>\n",
       "    <tr>\n",
       "      <th>Jonny Bairstow</th>\n",
       "      <td>ENG</td>\n",
       "      <td>732</td>\n",
       "    </tr>\n",
       "    <tr>\n",
       "      <th>Aaron Finch</th>\n",
       "      <td>AUS</td>\n",
       "      <td>715</td>\n",
       "    </tr>\n",
       "  </tbody>\n",
       "</table>\n",
       "</div>"
      ],
      "text/plain": [
       "                      Team  Rating\n",
       "Player                            \n",
       "Babar Azam             PAK     892\n",
       "Imam-ul-Haq            PAK     815\n",
       "Rassie van der Dussen   SA     789\n",
       "Quinton de Kock         SA     784\n",
       "Virat Kohli            IND     774\n",
       "Rohit Sharma           IND     770\n",
       "Ross Taylor             NZ     752\n",
       "David Warner           AUS     737\n",
       "Jonny Bairstow         ENG     732\n",
       "Aaron Finch            AUS     715"
      ]
     },
     "execution_count": 86,
     "metadata": {},
     "output_type": "execute_result"
    }
   ],
   "source": [
    "url=\"https://www.icc-cricket.com/rankings/mens/player-rankings/odi/batting\"\n",
    "import pandas as pd\n",
    "df=pd.read_html(url)\n",
    "df=df[0]\n",
    "ds=pd.DataFrame(df)\n",
    "TEAM=ds.head(10)\n",
    "team=TEAM.drop(['Pos','Career Best Rating'],axis=1)\n",
    "team.set_index('Player')"
   ]
  },
  {
   "cell_type": "markdown",
   "id": "035393dc",
   "metadata": {},
   "source": [
    "Top 10 ODI bowlers along with the records of their team and rating"
   ]
  },
  {
   "cell_type": "code",
   "execution_count": 87,
   "id": "6a00c3b2",
   "metadata": {},
   "outputs": [
    {
     "data": {
      "text/html": [
       "<div>\n",
       "<style scoped>\n",
       "    .dataframe tbody tr th:only-of-type {\n",
       "        vertical-align: middle;\n",
       "    }\n",
       "\n",
       "    .dataframe tbody tr th {\n",
       "        vertical-align: top;\n",
       "    }\n",
       "\n",
       "    .dataframe thead th {\n",
       "        text-align: right;\n",
       "    }\n",
       "</style>\n",
       "<table border=\"1\" class=\"dataframe\">\n",
       "  <thead>\n",
       "    <tr style=\"text-align: right;\">\n",
       "      <th></th>\n",
       "      <th>Team</th>\n",
       "      <th>Rating</th>\n",
       "    </tr>\n",
       "    <tr>\n",
       "      <th>Player</th>\n",
       "      <th></th>\n",
       "      <th></th>\n",
       "    </tr>\n",
       "  </thead>\n",
       "  <tbody>\n",
       "    <tr>\n",
       "      <th>Trent Boult</th>\n",
       "      <td>NZ</td>\n",
       "      <td>704</td>\n",
       "    </tr>\n",
       "    <tr>\n",
       "      <th>Jasprit Bumrah</th>\n",
       "      <td>IND</td>\n",
       "      <td>689</td>\n",
       "    </tr>\n",
       "    <tr>\n",
       "      <th>Shaheen Afridi</th>\n",
       "      <td>PAK</td>\n",
       "      <td>681</td>\n",
       "    </tr>\n",
       "    <tr>\n",
       "      <th>Josh Hazlewood</th>\n",
       "      <td>AUS</td>\n",
       "      <td>679</td>\n",
       "    </tr>\n",
       "    <tr>\n",
       "      <th>Mujeeb Ur Rahman</th>\n",
       "      <td>AFG</td>\n",
       "      <td>676</td>\n",
       "    </tr>\n",
       "    <tr>\n",
       "      <th>Mehedi Hasan</th>\n",
       "      <td>BAN</td>\n",
       "      <td>672</td>\n",
       "    </tr>\n",
       "    <tr>\n",
       "      <th>Matt Henry</th>\n",
       "      <td>NZ</td>\n",
       "      <td>670</td>\n",
       "    </tr>\n",
       "    <tr>\n",
       "      <th>Mohammad Nabi</th>\n",
       "      <td>AFG</td>\n",
       "      <td>657</td>\n",
       "    </tr>\n",
       "    <tr>\n",
       "      <th>Rashid Khan</th>\n",
       "      <td>AFG</td>\n",
       "      <td>651</td>\n",
       "    </tr>\n",
       "    <tr>\n",
       "      <th>Chris Woakes</th>\n",
       "      <td>ENG</td>\n",
       "      <td>640</td>\n",
       "    </tr>\n",
       "  </tbody>\n",
       "</table>\n",
       "</div>"
      ],
      "text/plain": [
       "                 Team  Rating\n",
       "Player                       \n",
       "Trent Boult        NZ     704\n",
       "Jasprit Bumrah    IND     689\n",
       "Shaheen Afridi    PAK     681\n",
       "Josh Hazlewood    AUS     679\n",
       "Mujeeb Ur Rahman  AFG     676\n",
       "Mehedi Hasan      BAN     672\n",
       "Matt Henry         NZ     670\n",
       "Mohammad Nabi     AFG     657\n",
       "Rashid Khan       AFG     651\n",
       "Chris Woakes      ENG     640"
      ]
     },
     "execution_count": 87,
     "metadata": {},
     "output_type": "execute_result"
    }
   ],
   "source": [
    "url='https://www.icc-cricket.com/rankings/mens/player-rankings/odi/bowling'\n",
    "import pandas as pd\n",
    "df=pd.read_html(url)\n",
    "df=df[0]\n",
    "ds=pd.DataFrame(df)\n",
    "TEAM=ds.head(10)\n",
    "team=TEAM.drop(['Pos','Career Best Rating'],axis=1)\n",
    "team.set_index('Player')"
   ]
  },
  {
   "cell_type": "code",
   "execution_count": null,
   "id": "6d0c5ee9",
   "metadata": {},
   "outputs": [],
   "source": []
  },
  {
   "cell_type": "markdown",
   "id": "0de05692",
   "metadata": {},
   "source": [
    "# FINISHED"
   ]
  },
  {
   "cell_type": "code",
   "execution_count": null,
   "id": "8da669c7",
   "metadata": {},
   "outputs": [],
   "source": []
  }
 ],
 "metadata": {
  "kernelspec": {
   "display_name": "Python 3 (ipykernel)",
   "language": "python",
   "name": "python3"
  },
  "language_info": {
   "codemirror_mode": {
    "name": "ipython",
    "version": 3
   },
   "file_extension": ".py",
   "mimetype": "text/x-python",
   "name": "python",
   "nbconvert_exporter": "python",
   "pygments_lexer": "ipython3",
   "version": "3.9.7"
  }
 },
 "nbformat": 4,
 "nbformat_minor": 5
}
