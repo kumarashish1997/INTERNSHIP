{
 "cells": [
  {
   "cell_type": "markdown",
   "id": "3b46b4eb",
   "metadata": {},
   "source": [
    "Write a python program to find the factorial of a number."
   ]
  },
  {
   "cell_type": "code",
   "execution_count": 1,
   "id": "46822ca1",
   "metadata": {},
   "outputs": [
    {
     "name": "stdout",
     "output_type": "stream",
     "text": [
      "Enter number:7\n"
     ]
    },
    {
     "data": {
      "text/plain": [
       "7"
      ]
     },
     "execution_count": 1,
     "metadata": {},
     "output_type": "execute_result"
    }
   ],
   "source": [
    "num=int(input(\"Enter number:\"))\n",
    "num"
   ]
  },
  {
   "cell_type": "code",
   "execution_count": 2,
   "id": "b3bf2a67",
   "metadata": {},
   "outputs": [],
   "source": [
    "factorial=1"
   ]
  },
  {
   "cell_type": "code",
   "execution_count": 3,
   "id": "41dc6c88",
   "metadata": {},
   "outputs": [
    {
     "name": "stdout",
     "output_type": "stream",
     "text": [
      "The factorial of  7 is 5040\n"
     ]
    }
   ],
   "source": [
    "#check the number is -ve,+ve,and 0\n",
    "if num<0:\n",
    "    print(\"Sorry factorial number does mot exits for negative number\")\n",
    "    \n",
    "elif num==0:\n",
    "    print(\"The factorial of 0 is 1\")\n",
    "    \n",
    "else:\n",
    "    for i in  range(1,num+1):\n",
    "        factorial=factorial*i\n",
    "    print(\"The factorial of \",num,\"is\",factorial)"
   ]
  },
  {
   "cell_type": "code",
   "execution_count": null,
   "id": "6ac4e967",
   "metadata": {},
   "outputs": [],
   "source": []
  },
  {
   "cell_type": "markdown",
   "id": "cd70e03e",
   "metadata": {},
   "source": [
    "Write a python program to find wheater a number is prime or composite"
   ]
  },
  {
   "cell_type": "code",
   "execution_count": 6,
   "id": "a588a78b",
   "metadata": {},
   "outputs": [
    {
     "name": "stdout",
     "output_type": "stream",
     "text": [
      "Enter a number:5\n"
     ]
    },
    {
     "data": {
      "text/plain": [
       "5"
      ]
     },
     "execution_count": 6,
     "metadata": {},
     "output_type": "execute_result"
    }
   ],
   "source": [
    "num=int(input(\"Enter a number:\"))\n",
    "num"
   ]
  },
  {
   "cell_type": "code",
   "execution_count": 7,
   "id": "40f6b6a4",
   "metadata": {},
   "outputs": [
    {
     "name": "stdout",
     "output_type": "stream",
     "text": [
      "5 is a PRIME NUMBER\n"
     ]
    }
   ],
   "source": [
    "if num>1:\n",
    "    for i in range(2,num):\n",
    "        if(num%i)==0:\n",
    "            print(num,\"is not a PRIME NUMBER\")\n",
    "            break\n",
    "    else:\n",
    "        print(num,\"is a PRIME NUMBER\")\n",
    "elif num==0 or 1:\n",
    "    print(num,\"is a neither PRIME or COMPOSITE NUMBER\")\n",
    "else:\n",
    "    print(num,\"is not a PRIME NUMBER it is a COMPOSITE NUMBER\")"
   ]
  },
  {
   "cell_type": "code",
   "execution_count": null,
   "id": "d9b1cc0a",
   "metadata": {},
   "outputs": [],
   "source": []
  },
  {
   "cell_type": "markdown",
   "id": "cb837f3d",
   "metadata": {},
   "source": [
    "Write a python program to check whether a given string is palindrome or not."
   ]
  },
  {
   "cell_type": "code",
   "execution_count": 8,
   "id": "cbc3039f",
   "metadata": {},
   "outputs": [
    {
     "name": "stdout",
     "output_type": "stream",
     "text": [
      "enter the text:madam\n"
     ]
    },
    {
     "data": {
      "text/plain": [
       "'madam'"
      ]
     },
     "execution_count": 8,
     "metadata": {},
     "output_type": "execute_result"
    }
   ],
   "source": [
    "text=input(\"enter the text:\")\n",
    "text"
   ]
  },
  {
   "cell_type": "code",
   "execution_count": 9,
   "id": "fd96a759",
   "metadata": {},
   "outputs": [],
   "source": [
    "rev=text[0::]"
   ]
  },
  {
   "cell_type": "code",
   "execution_count": 10,
   "id": "706035a9",
   "metadata": {},
   "outputs": [
    {
     "name": "stdout",
     "output_type": "stream",
     "text": [
      "madam text is PALINDROME\n"
     ]
    }
   ],
   "source": [
    "if text==rev:\n",
    "    print(text,\"text is PALINDROME\")\n",
    "else:\n",
    "    print(text,\"text is not PALINDROME\")"
   ]
  },
  {
   "cell_type": "code",
   "execution_count": null,
   "id": "1568179f",
   "metadata": {},
   "outputs": [],
   "source": []
  },
  {
   "cell_type": "markdown",
   "id": "ef726f78",
   "metadata": {},
   "source": [
    "Write a Python program to get the third side of right-angled triangle from two given sides"
   ]
  },
  {
   "cell_type": "code",
   "execution_count": 11,
   "id": "4016f2a9",
   "metadata": {},
   "outputs": [
    {
     "name": "stdout",
     "output_type": "stream",
     "text": [
      "Enter the value:3\n",
      "Base: 3\n"
     ]
    }
   ],
   "source": [
    "Base=int(input(\"Enter the value:\"))   # first side of right angled triangle\n",
    "print(\"Base:\",Base)"
   ]
  },
  {
   "cell_type": "code",
   "execution_count": 12,
   "id": "a901fcaf",
   "metadata": {},
   "outputs": [
    {
     "name": "stdout",
     "output_type": "stream",
     "text": [
      "Enter the value4\n",
      "Altitude: 4\n"
     ]
    }
   ],
   "source": [
    "Altitude=int(input(\"Enter the value\"))    # seconed side of right angled triangle\n",
    "print(\"Altitude:\",Altitude)"
   ]
  },
  {
   "cell_type": "code",
   "execution_count": 13,
   "id": "afae165b",
   "metadata": {},
   "outputs": [],
   "source": [
    "#FORMULA OF RIGHT ANGLE TRIANGLE\n",
    "Hypo=Base**2+Altitude**2     #hypo-->Hypotenuse"
   ]
  },
  {
   "cell_type": "code",
   "execution_count": 14,
   "id": "fed05aaa",
   "metadata": {},
   "outputs": [],
   "source": [
    "Hypotenuse=Hypo**0.5"
   ]
  },
  {
   "cell_type": "code",
   "execution_count": 15,
   "id": "9adf27cd",
   "metadata": {},
   "outputs": [
    {
     "name": "stdout",
     "output_type": "stream",
     "text": [
      "Third side of right angled triangle : 5.0\n"
     ]
    }
   ],
   "source": [
    "print(\"Third side of right angled triangle :\",Hypotenuse)"
   ]
  },
  {
   "cell_type": "code",
   "execution_count": null,
   "id": "f8ef1fa3",
   "metadata": {},
   "outputs": [],
   "source": []
  },
  {
   "cell_type": "markdown",
   "id": "4836bc65",
   "metadata": {},
   "source": [
    "Write a python program to print the frequency of each of the characters present in a given string\n",
    "#not knowledge about it"
   ]
  },
  {
   "cell_type": "code",
   "execution_count": null,
   "id": "a479687a",
   "metadata": {},
   "outputs": [],
   "source": []
  }
 ],
 "metadata": {
  "kernelspec": {
   "display_name": "Python 3 (ipykernel)",
   "language": "python",
   "name": "python3"
  },
  "language_info": {
   "codemirror_mode": {
    "name": "ipython",
    "version": 3
   },
   "file_extension": ".py",
   "mimetype": "text/x-python",
   "name": "python",
   "nbconvert_exporter": "python",
   "pygments_lexer": "ipython3",
   "version": "3.9.7"
  }
 },
 "nbformat": 4,
 "nbformat_minor": 5
}
